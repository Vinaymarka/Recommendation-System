{
  "nbformat": 4,
  "nbformat_minor": 0,
  "metadata": {
    "colab": {
      "provenance": []
    },
    "kernelspec": {
      "name": "python3",
      "display_name": "Python 3"
    },
    "language_info": {
      "name": "python"
    }
  },
  "cells": [
    {
      "cell_type": "code",
      "execution_count": 34,
      "metadata": {
        "id": "0XvXP8xP0Nsr"
      },
      "outputs": [],
      "source": [
        "import numpy as np\n",
        "import numpy.ma as ma\n",
        "import pandas as pd\n",
        "import tensorflow as tf\n",
        "from tensorflow import keras\n",
        "from sklearn.preprocessing import StandardScaler, MinMaxScaler\n",
        "from sklearn.model_selection import train_test_split\n",
        "import tabulate\n",
        "pd.set_option(\"display.precision\", 1)\n",
        "from IPython.display import HTML"
      ]
    },
    {
      "cell_type": "markdown",
      "source": [
        "## 2 - Movie ratings dataset\n",
        "The data set is derived from the [MovieLens ml-latest-small](https://grouplens.org/datasets/movielens/latest/) dataset.\n",
        "\n",
        "The original dataset consisted of around 9,000 films rated by 600 users, with ratings ranging from 0.5 to 5 in increments of 0.5. For analysis purposes, the dataset was trimmed to include only movies released after the year 2000 and belonging to popular genres. The refined version includes $n_u = 397$ users, $n_m = 847$ movies, and a total of 25,521 ratings. Each movie entry includes the title, release year, and one or more associated genres. For instance, Toy Story 3, released in 2010, is categorized under several genres such as \"Adventure|Animation|Children|Comedy|Fantasy\". While the dataset contains extensive information about movies, it holds minimal data about the users apart from their ratings. This dataset is utilized to construct training vectors for the neural network models discussed below.\n",
        "Below is a table listing the top 10 most-rated movies, which also tend to have high average ratings. How many of these have you seen?\n",
        "\n"
      ],
      "metadata": {
        "id": "9wgDDAv00gN6"
      }
    },
    {
      "cell_type": "code",
      "source": [
        "top10_df = pd.read_csv(\"/content/content_top10_df.csv\")\n",
        "bygenre_df = pd.read_csv(\"/content/content_bygenre_df.csv\")\n",
        "top10_df"
      ],
      "metadata": {
        "colab": {
          "base_uri": "https://localhost:8080/",
          "height": 363
        },
        "id": "2VC3zldm0ayc",
        "outputId": "6bab6981-f2af-4824-c16c-bcce8fb8e61a"
      },
      "execution_count": 35,
      "outputs": [
        {
          "output_type": "execute_result",
          "data": {
            "text/plain": [
              "   movie id  num ratings  ave rating  \\\n",
              "0      4993          198         4.1   \n",
              "1      5952          188         4.0   \n",
              "2      7153          185         4.1   \n",
              "3      4306          170         3.9   \n",
              "4     58559          149         4.2   \n",
              "5      6539          149         3.8   \n",
              "6     79132          143         4.1   \n",
              "7      6377          141         4.0   \n",
              "8      4886          132         3.9   \n",
              "9      7361          131         4.2   \n",
              "\n",
              "                                               title  \\\n",
              "0  Lord of the Rings: The Fellowship of the Ring,...   \n",
              "1             Lord of the Rings: The Two Towers, The   \n",
              "2     Lord of the Rings: The Return of the King, The   \n",
              "3                                              Shrek   \n",
              "4                                   Dark Knight, The   \n",
              "5  Pirates of the Caribbean: The Curse of the Bla...   \n",
              "6                                          Inception   \n",
              "7                                       Finding Nemo   \n",
              "8                                     Monsters, Inc.   \n",
              "9              Eternal Sunshine of the Spotless Mind   \n",
              "\n",
              "                                              genres  \n",
              "0                                  Adventure|Fantasy  \n",
              "1                                  Adventure|Fantasy  \n",
              "2                     Action|Adventure|Drama|Fantasy  \n",
              "3  Adventure|Animation|Children|Comedy|Fantasy|Ro...  \n",
              "4                                 Action|Crime|Drama  \n",
              "5                    Action|Adventure|Comedy|Fantasy  \n",
              "6         Action|Crime|Drama|Mystery|Sci-Fi|Thriller  \n",
              "7                Adventure|Animation|Children|Comedy  \n",
              "8        Adventure|Animation|Children|Comedy|Fantasy  \n",
              "9                               Drama|Romance|Sci-Fi  "
            ],
            "text/html": [
              "\n",
              "  <div id=\"df-c71802b2-f531-4e0b-bc52-3feceb1c42cd\" class=\"colab-df-container\">\n",
              "    <div>\n",
              "<style scoped>\n",
              "    .dataframe tbody tr th:only-of-type {\n",
              "        vertical-align: middle;\n",
              "    }\n",
              "\n",
              "    .dataframe tbody tr th {\n",
              "        vertical-align: top;\n",
              "    }\n",
              "\n",
              "    .dataframe thead th {\n",
              "        text-align: right;\n",
              "    }\n",
              "</style>\n",
              "<table border=\"1\" class=\"dataframe\">\n",
              "  <thead>\n",
              "    <tr style=\"text-align: right;\">\n",
              "      <th></th>\n",
              "      <th>movie id</th>\n",
              "      <th>num ratings</th>\n",
              "      <th>ave rating</th>\n",
              "      <th>title</th>\n",
              "      <th>genres</th>\n",
              "    </tr>\n",
              "  </thead>\n",
              "  <tbody>\n",
              "    <tr>\n",
              "      <th>0</th>\n",
              "      <td>4993</td>\n",
              "      <td>198</td>\n",
              "      <td>4.1</td>\n",
              "      <td>Lord of the Rings: The Fellowship of the Ring,...</td>\n",
              "      <td>Adventure|Fantasy</td>\n",
              "    </tr>\n",
              "    <tr>\n",
              "      <th>1</th>\n",
              "      <td>5952</td>\n",
              "      <td>188</td>\n",
              "      <td>4.0</td>\n",
              "      <td>Lord of the Rings: The Two Towers, The</td>\n",
              "      <td>Adventure|Fantasy</td>\n",
              "    </tr>\n",
              "    <tr>\n",
              "      <th>2</th>\n",
              "      <td>7153</td>\n",
              "      <td>185</td>\n",
              "      <td>4.1</td>\n",
              "      <td>Lord of the Rings: The Return of the King, The</td>\n",
              "      <td>Action|Adventure|Drama|Fantasy</td>\n",
              "    </tr>\n",
              "    <tr>\n",
              "      <th>3</th>\n",
              "      <td>4306</td>\n",
              "      <td>170</td>\n",
              "      <td>3.9</td>\n",
              "      <td>Shrek</td>\n",
              "      <td>Adventure|Animation|Children|Comedy|Fantasy|Ro...</td>\n",
              "    </tr>\n",
              "    <tr>\n",
              "      <th>4</th>\n",
              "      <td>58559</td>\n",
              "      <td>149</td>\n",
              "      <td>4.2</td>\n",
              "      <td>Dark Knight, The</td>\n",
              "      <td>Action|Crime|Drama</td>\n",
              "    </tr>\n",
              "    <tr>\n",
              "      <th>5</th>\n",
              "      <td>6539</td>\n",
              "      <td>149</td>\n",
              "      <td>3.8</td>\n",
              "      <td>Pirates of the Caribbean: The Curse of the Bla...</td>\n",
              "      <td>Action|Adventure|Comedy|Fantasy</td>\n",
              "    </tr>\n",
              "    <tr>\n",
              "      <th>6</th>\n",
              "      <td>79132</td>\n",
              "      <td>143</td>\n",
              "      <td>4.1</td>\n",
              "      <td>Inception</td>\n",
              "      <td>Action|Crime|Drama|Mystery|Sci-Fi|Thriller</td>\n",
              "    </tr>\n",
              "    <tr>\n",
              "      <th>7</th>\n",
              "      <td>6377</td>\n",
              "      <td>141</td>\n",
              "      <td>4.0</td>\n",
              "      <td>Finding Nemo</td>\n",
              "      <td>Adventure|Animation|Children|Comedy</td>\n",
              "    </tr>\n",
              "    <tr>\n",
              "      <th>8</th>\n",
              "      <td>4886</td>\n",
              "      <td>132</td>\n",
              "      <td>3.9</td>\n",
              "      <td>Monsters, Inc.</td>\n",
              "      <td>Adventure|Animation|Children|Comedy|Fantasy</td>\n",
              "    </tr>\n",
              "    <tr>\n",
              "      <th>9</th>\n",
              "      <td>7361</td>\n",
              "      <td>131</td>\n",
              "      <td>4.2</td>\n",
              "      <td>Eternal Sunshine of the Spotless Mind</td>\n",
              "      <td>Drama|Romance|Sci-Fi</td>\n",
              "    </tr>\n",
              "  </tbody>\n",
              "</table>\n",
              "</div>\n",
              "    <div class=\"colab-df-buttons\">\n",
              "\n",
              "  <div class=\"colab-df-container\">\n",
              "    <button class=\"colab-df-convert\" onclick=\"convertToInteractive('df-c71802b2-f531-4e0b-bc52-3feceb1c42cd')\"\n",
              "            title=\"Convert this dataframe to an interactive table.\"\n",
              "            style=\"display:none;\">\n",
              "\n",
              "  <svg xmlns=\"http://www.w3.org/2000/svg\" height=\"24px\" viewBox=\"0 -960 960 960\">\n",
              "    <path d=\"M120-120v-720h720v720H120Zm60-500h600v-160H180v160Zm220 220h160v-160H400v160Zm0 220h160v-160H400v160ZM180-400h160v-160H180v160Zm440 0h160v-160H620v160ZM180-180h160v-160H180v160Zm440 0h160v-160H620v160Z\"/>\n",
              "  </svg>\n",
              "    </button>\n",
              "\n",
              "  <style>\n",
              "    .colab-df-container {\n",
              "      display:flex;\n",
              "      gap: 12px;\n",
              "    }\n",
              "\n",
              "    .colab-df-convert {\n",
              "      background-color: #E8F0FE;\n",
              "      border: none;\n",
              "      border-radius: 50%;\n",
              "      cursor: pointer;\n",
              "      display: none;\n",
              "      fill: #1967D2;\n",
              "      height: 32px;\n",
              "      padding: 0 0 0 0;\n",
              "      width: 32px;\n",
              "    }\n",
              "\n",
              "    .colab-df-convert:hover {\n",
              "      background-color: #E2EBFA;\n",
              "      box-shadow: 0px 1px 2px rgba(60, 64, 67, 0.3), 0px 1px 3px 1px rgba(60, 64, 67, 0.15);\n",
              "      fill: #174EA6;\n",
              "    }\n",
              "\n",
              "    .colab-df-buttons div {\n",
              "      margin-bottom: 4px;\n",
              "    }\n",
              "\n",
              "    [theme=dark] .colab-df-convert {\n",
              "      background-color: #3B4455;\n",
              "      fill: #D2E3FC;\n",
              "    }\n",
              "\n",
              "    [theme=dark] .colab-df-convert:hover {\n",
              "      background-color: #434B5C;\n",
              "      box-shadow: 0px 1px 3px 1px rgba(0, 0, 0, 0.15);\n",
              "      filter: drop-shadow(0px 1px 2px rgba(0, 0, 0, 0.3));\n",
              "      fill: #FFFFFF;\n",
              "    }\n",
              "  </style>\n",
              "\n",
              "    <script>\n",
              "      const buttonEl =\n",
              "        document.querySelector('#df-c71802b2-f531-4e0b-bc52-3feceb1c42cd button.colab-df-convert');\n",
              "      buttonEl.style.display =\n",
              "        google.colab.kernel.accessAllowed ? 'block' : 'none';\n",
              "\n",
              "      async function convertToInteractive(key) {\n",
              "        const element = document.querySelector('#df-c71802b2-f531-4e0b-bc52-3feceb1c42cd');\n",
              "        const dataTable =\n",
              "          await google.colab.kernel.invokeFunction('convertToInteractive',\n",
              "                                                    [key], {});\n",
              "        if (!dataTable) return;\n",
              "\n",
              "        const docLinkHtml = 'Like what you see? Visit the ' +\n",
              "          '<a target=\"_blank\" href=https://colab.research.google.com/notebooks/data_table.ipynb>data table notebook</a>'\n",
              "          + ' to learn more about interactive tables.';\n",
              "        element.innerHTML = '';\n",
              "        dataTable['output_type'] = 'display_data';\n",
              "        await google.colab.output.renderOutput(dataTable, element);\n",
              "        const docLink = document.createElement('div');\n",
              "        docLink.innerHTML = docLinkHtml;\n",
              "        element.appendChild(docLink);\n",
              "      }\n",
              "    </script>\n",
              "  </div>\n",
              "\n",
              "\n",
              "<div id=\"df-f62f630a-a297-40e1-ad1c-0194d038ceec\">\n",
              "  <button class=\"colab-df-quickchart\" onclick=\"quickchart('df-f62f630a-a297-40e1-ad1c-0194d038ceec')\"\n",
              "            title=\"Suggest charts\"\n",
              "            style=\"display:none;\">\n",
              "\n",
              "<svg xmlns=\"http://www.w3.org/2000/svg\" height=\"24px\"viewBox=\"0 0 24 24\"\n",
              "     width=\"24px\">\n",
              "    <g>\n",
              "        <path d=\"M19 3H5c-1.1 0-2 .9-2 2v14c0 1.1.9 2 2 2h14c1.1 0 2-.9 2-2V5c0-1.1-.9-2-2-2zM9 17H7v-7h2v7zm4 0h-2V7h2v10zm4 0h-2v-4h2v4z\"/>\n",
              "    </g>\n",
              "</svg>\n",
              "  </button>\n",
              "\n",
              "<style>\n",
              "  .colab-df-quickchart {\n",
              "      --bg-color: #E8F0FE;\n",
              "      --fill-color: #1967D2;\n",
              "      --hover-bg-color: #E2EBFA;\n",
              "      --hover-fill-color: #174EA6;\n",
              "      --disabled-fill-color: #AAA;\n",
              "      --disabled-bg-color: #DDD;\n",
              "  }\n",
              "\n",
              "  [theme=dark] .colab-df-quickchart {\n",
              "      --bg-color: #3B4455;\n",
              "      --fill-color: #D2E3FC;\n",
              "      --hover-bg-color: #434B5C;\n",
              "      --hover-fill-color: #FFFFFF;\n",
              "      --disabled-bg-color: #3B4455;\n",
              "      --disabled-fill-color: #666;\n",
              "  }\n",
              "\n",
              "  .colab-df-quickchart {\n",
              "    background-color: var(--bg-color);\n",
              "    border: none;\n",
              "    border-radius: 50%;\n",
              "    cursor: pointer;\n",
              "    display: none;\n",
              "    fill: var(--fill-color);\n",
              "    height: 32px;\n",
              "    padding: 0;\n",
              "    width: 32px;\n",
              "  }\n",
              "\n",
              "  .colab-df-quickchart:hover {\n",
              "    background-color: var(--hover-bg-color);\n",
              "    box-shadow: 0 1px 2px rgba(60, 64, 67, 0.3), 0 1px 3px 1px rgba(60, 64, 67, 0.15);\n",
              "    fill: var(--button-hover-fill-color);\n",
              "  }\n",
              "\n",
              "  .colab-df-quickchart-complete:disabled,\n",
              "  .colab-df-quickchart-complete:disabled:hover {\n",
              "    background-color: var(--disabled-bg-color);\n",
              "    fill: var(--disabled-fill-color);\n",
              "    box-shadow: none;\n",
              "  }\n",
              "\n",
              "  .colab-df-spinner {\n",
              "    border: 2px solid var(--fill-color);\n",
              "    border-color: transparent;\n",
              "    border-bottom-color: var(--fill-color);\n",
              "    animation:\n",
              "      spin 1s steps(1) infinite;\n",
              "  }\n",
              "\n",
              "  @keyframes spin {\n",
              "    0% {\n",
              "      border-color: transparent;\n",
              "      border-bottom-color: var(--fill-color);\n",
              "      border-left-color: var(--fill-color);\n",
              "    }\n",
              "    20% {\n",
              "      border-color: transparent;\n",
              "      border-left-color: var(--fill-color);\n",
              "      border-top-color: var(--fill-color);\n",
              "    }\n",
              "    30% {\n",
              "      border-color: transparent;\n",
              "      border-left-color: var(--fill-color);\n",
              "      border-top-color: var(--fill-color);\n",
              "      border-right-color: var(--fill-color);\n",
              "    }\n",
              "    40% {\n",
              "      border-color: transparent;\n",
              "      border-right-color: var(--fill-color);\n",
              "      border-top-color: var(--fill-color);\n",
              "    }\n",
              "    60% {\n",
              "      border-color: transparent;\n",
              "      border-right-color: var(--fill-color);\n",
              "    }\n",
              "    80% {\n",
              "      border-color: transparent;\n",
              "      border-right-color: var(--fill-color);\n",
              "      border-bottom-color: var(--fill-color);\n",
              "    }\n",
              "    90% {\n",
              "      border-color: transparent;\n",
              "      border-bottom-color: var(--fill-color);\n",
              "    }\n",
              "  }\n",
              "</style>\n",
              "\n",
              "  <script>\n",
              "    async function quickchart(key) {\n",
              "      const quickchartButtonEl =\n",
              "        document.querySelector('#' + key + ' button');\n",
              "      quickchartButtonEl.disabled = true;  // To prevent multiple clicks.\n",
              "      quickchartButtonEl.classList.add('colab-df-spinner');\n",
              "      try {\n",
              "        const charts = await google.colab.kernel.invokeFunction(\n",
              "            'suggestCharts', [key], {});\n",
              "      } catch (error) {\n",
              "        console.error('Error during call to suggestCharts:', error);\n",
              "      }\n",
              "      quickchartButtonEl.classList.remove('colab-df-spinner');\n",
              "      quickchartButtonEl.classList.add('colab-df-quickchart-complete');\n",
              "    }\n",
              "    (() => {\n",
              "      let quickchartButtonEl =\n",
              "        document.querySelector('#df-f62f630a-a297-40e1-ad1c-0194d038ceec button');\n",
              "      quickchartButtonEl.style.display =\n",
              "        google.colab.kernel.accessAllowed ? 'block' : 'none';\n",
              "    })();\n",
              "  </script>\n",
              "</div>\n",
              "\n",
              "  <div id=\"id_eb70a52f-1f6b-44ba-a3bb-6bb6bc0e7014\">\n",
              "    <style>\n",
              "      .colab-df-generate {\n",
              "        background-color: #E8F0FE;\n",
              "        border: none;\n",
              "        border-radius: 50%;\n",
              "        cursor: pointer;\n",
              "        display: none;\n",
              "        fill: #1967D2;\n",
              "        height: 32px;\n",
              "        padding: 0 0 0 0;\n",
              "        width: 32px;\n",
              "      }\n",
              "\n",
              "      .colab-df-generate:hover {\n",
              "        background-color: #E2EBFA;\n",
              "        box-shadow: 0px 1px 2px rgba(60, 64, 67, 0.3), 0px 1px 3px 1px rgba(60, 64, 67, 0.15);\n",
              "        fill: #174EA6;\n",
              "      }\n",
              "\n",
              "      [theme=dark] .colab-df-generate {\n",
              "        background-color: #3B4455;\n",
              "        fill: #D2E3FC;\n",
              "      }\n",
              "\n",
              "      [theme=dark] .colab-df-generate:hover {\n",
              "        background-color: #434B5C;\n",
              "        box-shadow: 0px 1px 3px 1px rgba(0, 0, 0, 0.15);\n",
              "        filter: drop-shadow(0px 1px 2px rgba(0, 0, 0, 0.3));\n",
              "        fill: #FFFFFF;\n",
              "      }\n",
              "    </style>\n",
              "    <button class=\"colab-df-generate\" onclick=\"generateWithVariable('top10_df')\"\n",
              "            title=\"Generate code using this dataframe.\"\n",
              "            style=\"display:none;\">\n",
              "\n",
              "  <svg xmlns=\"http://www.w3.org/2000/svg\" height=\"24px\"viewBox=\"0 0 24 24\"\n",
              "       width=\"24px\">\n",
              "    <path d=\"M7,19H8.4L18.45,9,17,7.55,7,17.6ZM5,21V16.75L18.45,3.32a2,2,0,0,1,2.83,0l1.4,1.43a1.91,1.91,0,0,1,.58,1.4,1.91,1.91,0,0,1-.58,1.4L9.25,21ZM18.45,9,17,7.55Zm-12,3A5.31,5.31,0,0,0,4.9,8.1,5.31,5.31,0,0,0,1,6.5,5.31,5.31,0,0,0,4.9,4.9,5.31,5.31,0,0,0,6.5,1,5.31,5.31,0,0,0,8.1,4.9,5.31,5.31,0,0,0,12,6.5,5.46,5.46,0,0,0,6.5,12Z\"/>\n",
              "  </svg>\n",
              "    </button>\n",
              "    <script>\n",
              "      (() => {\n",
              "      const buttonEl =\n",
              "        document.querySelector('#id_eb70a52f-1f6b-44ba-a3bb-6bb6bc0e7014 button.colab-df-generate');\n",
              "      buttonEl.style.display =\n",
              "        google.colab.kernel.accessAllowed ? 'block' : 'none';\n",
              "\n",
              "      buttonEl.onclick = () => {\n",
              "        google.colab.notebook.generateWithVariable('top10_df');\n",
              "      }\n",
              "      })();\n",
              "    </script>\n",
              "  </div>\n",
              "\n",
              "    </div>\n",
              "  </div>\n"
            ],
            "application/vnd.google.colaboratory.intrinsic+json": {
              "type": "dataframe",
              "variable_name": "top10_df",
              "summary": "{\n  \"name\": \"top10_df\",\n  \"rows\": 10,\n  \"fields\": [\n    {\n      \"column\": \"movie id\",\n      \"properties\": {\n        \"dtype\": \"number\",\n        \"std\": 26978,\n        \"min\": 4306,\n        \"max\": 79132,\n        \"num_unique_values\": 10,\n        \"samples\": [\n          4886,\n          5952,\n          6539\n        ],\n        \"semantic_type\": \"\",\n        \"description\": \"\"\n      }\n    },\n    {\n      \"column\": \"num ratings\",\n      \"properties\": {\n        \"dtype\": \"number\",\n        \"std\": 24,\n        \"min\": 131,\n        \"max\": 198,\n        \"num_unique_values\": 9,\n        \"samples\": [\n          132,\n          188,\n          143\n        ],\n        \"semantic_type\": \"\",\n        \"description\": \"\"\n      }\n    },\n    {\n      \"column\": \"ave rating\",\n      \"properties\": {\n        \"dtype\": \"number\",\n        \"std\": 0.14674284612043817,\n        \"min\": 3.778523489932886,\n        \"max\": 4.238255033557047,\n        \"num_unique_values\": 10,\n        \"samples\": [\n          3.871212121212121,\n          4.0212765957446805,\n          3.778523489932886\n        ],\n        \"semantic_type\": \"\",\n        \"description\": \"\"\n      }\n    },\n    {\n      \"column\": \"title\",\n      \"properties\": {\n        \"dtype\": \"string\",\n        \"num_unique_values\": 10,\n        \"samples\": [\n          \"Monsters, Inc.\",\n          \"Lord of the Rings: The Two Towers, The\",\n          \"Pirates of the Caribbean: The Curse of the Black Pearl\"\n        ],\n        \"semantic_type\": \"\",\n        \"description\": \"\"\n      }\n    },\n    {\n      \"column\": \"genres\",\n      \"properties\": {\n        \"dtype\": \"string\",\n        \"num_unique_values\": 9,\n        \"samples\": [\n          \"Adventure|Animation|Children|Comedy|Fantasy\",\n          \"Action|Adventure|Drama|Fantasy\",\n          \"Action|Crime|Drama|Mystery|Sci-Fi|Thriller\"\n        ],\n        \"semantic_type\": \"\",\n        \"description\": \"\"\n      }\n    }\n  ]\n}"
            }
          },
          "metadata": {},
          "execution_count": 35
        }
      ]
    },
    {
      "cell_type": "code",
      "source": [
        "bygenre_df"
      ],
      "metadata": {
        "colab": {
          "base_uri": "https://localhost:8080/",
          "height": 488
        },
        "id": "JPPf8G210jsh",
        "outputId": "28796e78-85c0-478e-c9b7-455b7a1dd4fb"
      },
      "execution_count": 3,
      "outputs": [
        {
          "output_type": "execute_result",
          "data": {
            "text/plain": [
              "          genre  num movies  ave rating/genre  ratings per genre\n",
              "0        Action         321               3.4              10377\n",
              "1     Adventure         234               3.4               8785\n",
              "2     Animation          76               3.6               2588\n",
              "3      Children          69               3.4               2472\n",
              "4        Comedy         326               3.4               8911\n",
              "5         Crime         139               3.5               4671\n",
              "6   Documentary          13               3.8                280\n",
              "7         Drama         342               3.6              10201\n",
              "8       Fantasy         124               3.4               4468\n",
              "9        Horror          56               3.2               1345\n",
              "10      Mystery          68               3.6               2497\n",
              "11      Romance         151               3.4               4468\n",
              "12       Sci-Fi         174               3.4               5894\n",
              "13     Thriller         245               3.4               7659"
            ],
            "text/html": [
              "\n",
              "  <div id=\"df-ac5ddcb8-fe04-4276-83d5-18105c651f22\" class=\"colab-df-container\">\n",
              "    <div>\n",
              "<style scoped>\n",
              "    .dataframe tbody tr th:only-of-type {\n",
              "        vertical-align: middle;\n",
              "    }\n",
              "\n",
              "    .dataframe tbody tr th {\n",
              "        vertical-align: top;\n",
              "    }\n",
              "\n",
              "    .dataframe thead th {\n",
              "        text-align: right;\n",
              "    }\n",
              "</style>\n",
              "<table border=\"1\" class=\"dataframe\">\n",
              "  <thead>\n",
              "    <tr style=\"text-align: right;\">\n",
              "      <th></th>\n",
              "      <th>genre</th>\n",
              "      <th>num movies</th>\n",
              "      <th>ave rating/genre</th>\n",
              "      <th>ratings per genre</th>\n",
              "    </tr>\n",
              "  </thead>\n",
              "  <tbody>\n",
              "    <tr>\n",
              "      <th>0</th>\n",
              "      <td>Action</td>\n",
              "      <td>321</td>\n",
              "      <td>3.4</td>\n",
              "      <td>10377</td>\n",
              "    </tr>\n",
              "    <tr>\n",
              "      <th>1</th>\n",
              "      <td>Adventure</td>\n",
              "      <td>234</td>\n",
              "      <td>3.4</td>\n",
              "      <td>8785</td>\n",
              "    </tr>\n",
              "    <tr>\n",
              "      <th>2</th>\n",
              "      <td>Animation</td>\n",
              "      <td>76</td>\n",
              "      <td>3.6</td>\n",
              "      <td>2588</td>\n",
              "    </tr>\n",
              "    <tr>\n",
              "      <th>3</th>\n",
              "      <td>Children</td>\n",
              "      <td>69</td>\n",
              "      <td>3.4</td>\n",
              "      <td>2472</td>\n",
              "    </tr>\n",
              "    <tr>\n",
              "      <th>4</th>\n",
              "      <td>Comedy</td>\n",
              "      <td>326</td>\n",
              "      <td>3.4</td>\n",
              "      <td>8911</td>\n",
              "    </tr>\n",
              "    <tr>\n",
              "      <th>5</th>\n",
              "      <td>Crime</td>\n",
              "      <td>139</td>\n",
              "      <td>3.5</td>\n",
              "      <td>4671</td>\n",
              "    </tr>\n",
              "    <tr>\n",
              "      <th>6</th>\n",
              "      <td>Documentary</td>\n",
              "      <td>13</td>\n",
              "      <td>3.8</td>\n",
              "      <td>280</td>\n",
              "    </tr>\n",
              "    <tr>\n",
              "      <th>7</th>\n",
              "      <td>Drama</td>\n",
              "      <td>342</td>\n",
              "      <td>3.6</td>\n",
              "      <td>10201</td>\n",
              "    </tr>\n",
              "    <tr>\n",
              "      <th>8</th>\n",
              "      <td>Fantasy</td>\n",
              "      <td>124</td>\n",
              "      <td>3.4</td>\n",
              "      <td>4468</td>\n",
              "    </tr>\n",
              "    <tr>\n",
              "      <th>9</th>\n",
              "      <td>Horror</td>\n",
              "      <td>56</td>\n",
              "      <td>3.2</td>\n",
              "      <td>1345</td>\n",
              "    </tr>\n",
              "    <tr>\n",
              "      <th>10</th>\n",
              "      <td>Mystery</td>\n",
              "      <td>68</td>\n",
              "      <td>3.6</td>\n",
              "      <td>2497</td>\n",
              "    </tr>\n",
              "    <tr>\n",
              "      <th>11</th>\n",
              "      <td>Romance</td>\n",
              "      <td>151</td>\n",
              "      <td>3.4</td>\n",
              "      <td>4468</td>\n",
              "    </tr>\n",
              "    <tr>\n",
              "      <th>12</th>\n",
              "      <td>Sci-Fi</td>\n",
              "      <td>174</td>\n",
              "      <td>3.4</td>\n",
              "      <td>5894</td>\n",
              "    </tr>\n",
              "    <tr>\n",
              "      <th>13</th>\n",
              "      <td>Thriller</td>\n",
              "      <td>245</td>\n",
              "      <td>3.4</td>\n",
              "      <td>7659</td>\n",
              "    </tr>\n",
              "  </tbody>\n",
              "</table>\n",
              "</div>\n",
              "    <div class=\"colab-df-buttons\">\n",
              "\n",
              "  <div class=\"colab-df-container\">\n",
              "    <button class=\"colab-df-convert\" onclick=\"convertToInteractive('df-ac5ddcb8-fe04-4276-83d5-18105c651f22')\"\n",
              "            title=\"Convert this dataframe to an interactive table.\"\n",
              "            style=\"display:none;\">\n",
              "\n",
              "  <svg xmlns=\"http://www.w3.org/2000/svg\" height=\"24px\" viewBox=\"0 -960 960 960\">\n",
              "    <path d=\"M120-120v-720h720v720H120Zm60-500h600v-160H180v160Zm220 220h160v-160H400v160Zm0 220h160v-160H400v160ZM180-400h160v-160H180v160Zm440 0h160v-160H620v160ZM180-180h160v-160H180v160Zm440 0h160v-160H620v160Z\"/>\n",
              "  </svg>\n",
              "    </button>\n",
              "\n",
              "  <style>\n",
              "    .colab-df-container {\n",
              "      display:flex;\n",
              "      gap: 12px;\n",
              "    }\n",
              "\n",
              "    .colab-df-convert {\n",
              "      background-color: #E8F0FE;\n",
              "      border: none;\n",
              "      border-radius: 50%;\n",
              "      cursor: pointer;\n",
              "      display: none;\n",
              "      fill: #1967D2;\n",
              "      height: 32px;\n",
              "      padding: 0 0 0 0;\n",
              "      width: 32px;\n",
              "    }\n",
              "\n",
              "    .colab-df-convert:hover {\n",
              "      background-color: #E2EBFA;\n",
              "      box-shadow: 0px 1px 2px rgba(60, 64, 67, 0.3), 0px 1px 3px 1px rgba(60, 64, 67, 0.15);\n",
              "      fill: #174EA6;\n",
              "    }\n",
              "\n",
              "    .colab-df-buttons div {\n",
              "      margin-bottom: 4px;\n",
              "    }\n",
              "\n",
              "    [theme=dark] .colab-df-convert {\n",
              "      background-color: #3B4455;\n",
              "      fill: #D2E3FC;\n",
              "    }\n",
              "\n",
              "    [theme=dark] .colab-df-convert:hover {\n",
              "      background-color: #434B5C;\n",
              "      box-shadow: 0px 1px 3px 1px rgba(0, 0, 0, 0.15);\n",
              "      filter: drop-shadow(0px 1px 2px rgba(0, 0, 0, 0.3));\n",
              "      fill: #FFFFFF;\n",
              "    }\n",
              "  </style>\n",
              "\n",
              "    <script>\n",
              "      const buttonEl =\n",
              "        document.querySelector('#df-ac5ddcb8-fe04-4276-83d5-18105c651f22 button.colab-df-convert');\n",
              "      buttonEl.style.display =\n",
              "        google.colab.kernel.accessAllowed ? 'block' : 'none';\n",
              "\n",
              "      async function convertToInteractive(key) {\n",
              "        const element = document.querySelector('#df-ac5ddcb8-fe04-4276-83d5-18105c651f22');\n",
              "        const dataTable =\n",
              "          await google.colab.kernel.invokeFunction('convertToInteractive',\n",
              "                                                    [key], {});\n",
              "        if (!dataTable) return;\n",
              "\n",
              "        const docLinkHtml = 'Like what you see? Visit the ' +\n",
              "          '<a target=\"_blank\" href=https://colab.research.google.com/notebooks/data_table.ipynb>data table notebook</a>'\n",
              "          + ' to learn more about interactive tables.';\n",
              "        element.innerHTML = '';\n",
              "        dataTable['output_type'] = 'display_data';\n",
              "        await google.colab.output.renderOutput(dataTable, element);\n",
              "        const docLink = document.createElement('div');\n",
              "        docLink.innerHTML = docLinkHtml;\n",
              "        element.appendChild(docLink);\n",
              "      }\n",
              "    </script>\n",
              "  </div>\n",
              "\n",
              "\n",
              "<div id=\"df-b43eabda-e952-4edc-9945-4ab540d0bfcd\">\n",
              "  <button class=\"colab-df-quickchart\" onclick=\"quickchart('df-b43eabda-e952-4edc-9945-4ab540d0bfcd')\"\n",
              "            title=\"Suggest charts\"\n",
              "            style=\"display:none;\">\n",
              "\n",
              "<svg xmlns=\"http://www.w3.org/2000/svg\" height=\"24px\"viewBox=\"0 0 24 24\"\n",
              "     width=\"24px\">\n",
              "    <g>\n",
              "        <path d=\"M19 3H5c-1.1 0-2 .9-2 2v14c0 1.1.9 2 2 2h14c1.1 0 2-.9 2-2V5c0-1.1-.9-2-2-2zM9 17H7v-7h2v7zm4 0h-2V7h2v10zm4 0h-2v-4h2v4z\"/>\n",
              "    </g>\n",
              "</svg>\n",
              "  </button>\n",
              "\n",
              "<style>\n",
              "  .colab-df-quickchart {\n",
              "      --bg-color: #E8F0FE;\n",
              "      --fill-color: #1967D2;\n",
              "      --hover-bg-color: #E2EBFA;\n",
              "      --hover-fill-color: #174EA6;\n",
              "      --disabled-fill-color: #AAA;\n",
              "      --disabled-bg-color: #DDD;\n",
              "  }\n",
              "\n",
              "  [theme=dark] .colab-df-quickchart {\n",
              "      --bg-color: #3B4455;\n",
              "      --fill-color: #D2E3FC;\n",
              "      --hover-bg-color: #434B5C;\n",
              "      --hover-fill-color: #FFFFFF;\n",
              "      --disabled-bg-color: #3B4455;\n",
              "      --disabled-fill-color: #666;\n",
              "  }\n",
              "\n",
              "  .colab-df-quickchart {\n",
              "    background-color: var(--bg-color);\n",
              "    border: none;\n",
              "    border-radius: 50%;\n",
              "    cursor: pointer;\n",
              "    display: none;\n",
              "    fill: var(--fill-color);\n",
              "    height: 32px;\n",
              "    padding: 0;\n",
              "    width: 32px;\n",
              "  }\n",
              "\n",
              "  .colab-df-quickchart:hover {\n",
              "    background-color: var(--hover-bg-color);\n",
              "    box-shadow: 0 1px 2px rgba(60, 64, 67, 0.3), 0 1px 3px 1px rgba(60, 64, 67, 0.15);\n",
              "    fill: var(--button-hover-fill-color);\n",
              "  }\n",
              "\n",
              "  .colab-df-quickchart-complete:disabled,\n",
              "  .colab-df-quickchart-complete:disabled:hover {\n",
              "    background-color: var(--disabled-bg-color);\n",
              "    fill: var(--disabled-fill-color);\n",
              "    box-shadow: none;\n",
              "  }\n",
              "\n",
              "  .colab-df-spinner {\n",
              "    border: 2px solid var(--fill-color);\n",
              "    border-color: transparent;\n",
              "    border-bottom-color: var(--fill-color);\n",
              "    animation:\n",
              "      spin 1s steps(1) infinite;\n",
              "  }\n",
              "\n",
              "  @keyframes spin {\n",
              "    0% {\n",
              "      border-color: transparent;\n",
              "      border-bottom-color: var(--fill-color);\n",
              "      border-left-color: var(--fill-color);\n",
              "    }\n",
              "    20% {\n",
              "      border-color: transparent;\n",
              "      border-left-color: var(--fill-color);\n",
              "      border-top-color: var(--fill-color);\n",
              "    }\n",
              "    30% {\n",
              "      border-color: transparent;\n",
              "      border-left-color: var(--fill-color);\n",
              "      border-top-color: var(--fill-color);\n",
              "      border-right-color: var(--fill-color);\n",
              "    }\n",
              "    40% {\n",
              "      border-color: transparent;\n",
              "      border-right-color: var(--fill-color);\n",
              "      border-top-color: var(--fill-color);\n",
              "    }\n",
              "    60% {\n",
              "      border-color: transparent;\n",
              "      border-right-color: var(--fill-color);\n",
              "    }\n",
              "    80% {\n",
              "      border-color: transparent;\n",
              "      border-right-color: var(--fill-color);\n",
              "      border-bottom-color: var(--fill-color);\n",
              "    }\n",
              "    90% {\n",
              "      border-color: transparent;\n",
              "      border-bottom-color: var(--fill-color);\n",
              "    }\n",
              "  }\n",
              "</style>\n",
              "\n",
              "  <script>\n",
              "    async function quickchart(key) {\n",
              "      const quickchartButtonEl =\n",
              "        document.querySelector('#' + key + ' button');\n",
              "      quickchartButtonEl.disabled = true;  // To prevent multiple clicks.\n",
              "      quickchartButtonEl.classList.add('colab-df-spinner');\n",
              "      try {\n",
              "        const charts = await google.colab.kernel.invokeFunction(\n",
              "            'suggestCharts', [key], {});\n",
              "      } catch (error) {\n",
              "        console.error('Error during call to suggestCharts:', error);\n",
              "      }\n",
              "      quickchartButtonEl.classList.remove('colab-df-spinner');\n",
              "      quickchartButtonEl.classList.add('colab-df-quickchart-complete');\n",
              "    }\n",
              "    (() => {\n",
              "      let quickchartButtonEl =\n",
              "        document.querySelector('#df-b43eabda-e952-4edc-9945-4ab540d0bfcd button');\n",
              "      quickchartButtonEl.style.display =\n",
              "        google.colab.kernel.accessAllowed ? 'block' : 'none';\n",
              "    })();\n",
              "  </script>\n",
              "</div>\n",
              "\n",
              "  <div id=\"id_7ca09dc4-0800-434b-873b-3c50c6347c32\">\n",
              "    <style>\n",
              "      .colab-df-generate {\n",
              "        background-color: #E8F0FE;\n",
              "        border: none;\n",
              "        border-radius: 50%;\n",
              "        cursor: pointer;\n",
              "        display: none;\n",
              "        fill: #1967D2;\n",
              "        height: 32px;\n",
              "        padding: 0 0 0 0;\n",
              "        width: 32px;\n",
              "      }\n",
              "\n",
              "      .colab-df-generate:hover {\n",
              "        background-color: #E2EBFA;\n",
              "        box-shadow: 0px 1px 2px rgba(60, 64, 67, 0.3), 0px 1px 3px 1px rgba(60, 64, 67, 0.15);\n",
              "        fill: #174EA6;\n",
              "      }\n",
              "\n",
              "      [theme=dark] .colab-df-generate {\n",
              "        background-color: #3B4455;\n",
              "        fill: #D2E3FC;\n",
              "      }\n",
              "\n",
              "      [theme=dark] .colab-df-generate:hover {\n",
              "        background-color: #434B5C;\n",
              "        box-shadow: 0px 1px 3px 1px rgba(0, 0, 0, 0.15);\n",
              "        filter: drop-shadow(0px 1px 2px rgba(0, 0, 0, 0.3));\n",
              "        fill: #FFFFFF;\n",
              "      }\n",
              "    </style>\n",
              "    <button class=\"colab-df-generate\" onclick=\"generateWithVariable('bygenre_df')\"\n",
              "            title=\"Generate code using this dataframe.\"\n",
              "            style=\"display:none;\">\n",
              "\n",
              "  <svg xmlns=\"http://www.w3.org/2000/svg\" height=\"24px\"viewBox=\"0 0 24 24\"\n",
              "       width=\"24px\">\n",
              "    <path d=\"M7,19H8.4L18.45,9,17,7.55,7,17.6ZM5,21V16.75L18.45,3.32a2,2,0,0,1,2.83,0l1.4,1.43a1.91,1.91,0,0,1,.58,1.4,1.91,1.91,0,0,1-.58,1.4L9.25,21ZM18.45,9,17,7.55Zm-12,3A5.31,5.31,0,0,0,4.9,8.1,5.31,5.31,0,0,0,1,6.5,5.31,5.31,0,0,0,4.9,4.9,5.31,5.31,0,0,0,6.5,1,5.31,5.31,0,0,0,8.1,4.9,5.31,5.31,0,0,0,12,6.5,5.46,5.46,0,0,0,6.5,12Z\"/>\n",
              "  </svg>\n",
              "    </button>\n",
              "    <script>\n",
              "      (() => {\n",
              "      const buttonEl =\n",
              "        document.querySelector('#id_7ca09dc4-0800-434b-873b-3c50c6347c32 button.colab-df-generate');\n",
              "      buttonEl.style.display =\n",
              "        google.colab.kernel.accessAllowed ? 'block' : 'none';\n",
              "\n",
              "      buttonEl.onclick = () => {\n",
              "        google.colab.notebook.generateWithVariable('bygenre_df');\n",
              "      }\n",
              "      })();\n",
              "    </script>\n",
              "  </div>\n",
              "\n",
              "    </div>\n",
              "  </div>\n"
            ],
            "application/vnd.google.colaboratory.intrinsic+json": {
              "type": "dataframe",
              "variable_name": "bygenre_df",
              "summary": "{\n  \"name\": \"bygenre_df\",\n  \"rows\": 14,\n  \"fields\": [\n    {\n      \"column\": \"genre\",\n      \"properties\": {\n        \"dtype\": \"string\",\n        \"num_unique_values\": 14,\n        \"samples\": [\n          \"Horror\",\n          \"Romance\",\n          \"Action\"\n        ],\n        \"semantic_type\": \"\",\n        \"description\": \"\"\n      }\n    },\n    {\n      \"column\": \"num movies\",\n      \"properties\": {\n        \"dtype\": \"number\",\n        \"std\": 109,\n        \"min\": 13,\n        \"max\": 342,\n        \"num_unique_values\": 14,\n        \"samples\": [\n          56,\n          151,\n          321\n        ],\n        \"semantic_type\": \"\",\n        \"description\": \"\"\n      }\n    },\n    {\n      \"column\": \"ave rating/genre\",\n      \"properties\": {\n        \"dtype\": \"number\",\n        \"std\": 0.15147806572439584,\n        \"min\": 3.2,\n        \"max\": 3.81,\n        \"num_unique_values\": 11,\n        \"samples\": [\n          3.54,\n          3.37,\n          3.59\n        ],\n        \"semantic_type\": \"\",\n        \"description\": \"\"\n      }\n    },\n    {\n      \"column\": \"ratings per genre\",\n      \"properties\": {\n        \"dtype\": \"number\",\n        \"std\": 3359,\n        \"min\": 280,\n        \"max\": 10377,\n        \"num_unique_values\": 13,\n        \"samples\": [\n          5894,\n          1345,\n          10377\n        ],\n        \"semantic_type\": \"\",\n        \"description\": \"\"\n      }\n    }\n  ]\n}"
            }
          },
          "metadata": {},
          "execution_count": 3
        }
      ]
    },
    {
      "cell_type": "markdown",
      "source": [
        "## 3 - Content-based filtering with a neural network\n",
        "\n",
        "\n",
        "Content-based filtering also creates feature vectors for both users and movies. However, it acknowledges that incorporating additional details about users or movies could enhance prediction accuracy. This extra information is fed into a neural network, which then produces the user and movie vectors as illustrated below.\n",
        "\n",
        "\n",
        "\n",
        "<a name=\"3.1\"></a>\n",
        "### 3.1 Training Data\n",
        "The input features for movies combine original dataset attributes with additional 'engineered features'. One such feature is the average rating, calculated from existing user ratings.\n",
        "\n",
        "For users, the input features are entirely engineered. These include the average rating each user has given across different genres. Although user ID, total number of ratings, and overall average rating are part of the dataset, they are excluded from the training and prediction phases. These fields are retained solely for the purpose of data interpretation.\n",
        "\n",
        "The training dataset comprises all user-provided ratings. To improve representation of less common genres, some ratings are intentionally duplicated, increasing the number of relevant training samples. The dataset is divided into two equal-sized arrays: one representing users and the other representing movies/items.\n",
        "\n",
        "Let’s now load and examine a portion of this data."
      ],
      "metadata": {
        "id": "M0G1Iakl0pVS"
      }
    },
    {
      "cell_type": "code",
      "source": [
        "import csv\n",
        "import numpy as np\n",
        "from numpy import genfromtxt\n",
        "import pickle\n",
        "import tabulate\n",
        "from collections import defaultdict\n",
        "\n",
        "def load_data():\n",
        "    ''' called to load preprepared data for the lab '''\n",
        "    item_train = genfromtxt('/content/content_item_train.csv', delimiter=',')\n",
        "    user_train = genfromtxt('/content/content_user_train.csv', delimiter=',')\n",
        "    y_train    = genfromtxt('/content/content_y_train.csv', delimiter=',')\n",
        "    with open('/content/content_item_train_header.txt', newline='') as f:    #csv reader handles quoted strings better\n",
        "        item_features = list(csv.reader(f))[0]\n",
        "    with open('/content/content_user_train_header.txt', newline='') as f:\n",
        "        user_features = list(csv.reader(f))[0]\n",
        "    item_vecs = genfromtxt('/content/content_item_vecs.csv', delimiter=',')\n",
        "\n",
        "    movie_dict = defaultdict(dict)\n",
        "    count = 0\n",
        "#    with open('/movies.csv', newline='') as csvfile:\n",
        "    with open('/content/content_movie_list.csv', newline='') as csvfile:\n",
        "        reader = csv.reader(csvfile, delimiter=',', quotechar='\"')\n",
        "        for line in reader:\n",
        "            if count == 0:\n",
        "                count += 1  #skip header\n",
        "                #print(line) print\n",
        "            else:\n",
        "                count += 1\n",
        "                movie_id = int(line[0])\n",
        "                movie_dict[movie_id][\"title\"] = line[1]\n",
        "                movie_dict[movie_id][\"genres\"] = line[2]\n",
        "\n",
        "    with open('/content/content_user_to_genre.pickle', 'rb') as f:\n",
        "        user_to_genre = pickle.load(f)\n",
        "#user_to_genre\n",
        "    return(item_train, user_train, y_train, item_features, user_features, item_vecs, movie_dict, user_to_genre)"
      ],
      "metadata": {
        "id": "HvKROxkB0mhP"
      },
      "execution_count": 36,
      "outputs": []
    },
    {
      "cell_type": "code",
      "source": [
        "def split_str(ifeatures, smax):\n",
        "    ''' Splits long feature name strings to improve table formatting '''\n",
        "    ofeatures = []\n",
        "    for s in ifeatures:\n",
        "        if ' ' not in s:  # skip if string already contains a space\n",
        "            if len(s) > smax:\n",
        "                mid = int(len(s) / 2)\n",
        "                s = s[:mid] + \" \" + s[mid:]\n",
        "        ofeatures.append(s)\n",
        "    return ofeatures\n",
        "\n",
        "\n",
        "def pprint_train(x_train, features, vs, u_s, maxcount=5, user=True):\n",
        "    \"\"\"\n",
        "    Nicely formats and prints the user_train or item_train array as an HTML table.\n",
        "\n",
        "    Args:\n",
        "        x_train (ndarray): The input training array to print.\n",
        "        features (list): List of feature names.\n",
        "        vs (int): Index where vector features begin.\n",
        "        u_s (int): Number of user-specific columns before vector data.\n",
        "        maxcount (int): Number of rows to display.\n",
        "        user (bool): Flag indicating if it's user data (True) or item data (False).\n",
        "\n",
        "    Returns:\n",
        "        str: An HTML-formatted string representing the data table.\n",
        "    \"\"\"\n",
        "    if user:\n",
        "        flist = [\".0f\", \".0f\", \".1f\",\n",
        "                 \".1f\", \".1f\", \".1f\", \".1f\", \".1f\", \".1f\", \".1f\", \".1f\", \".1f\", \".1f\", \".1f\", \".1f\", \".1f\", \".1f\"]\n",
        "    else:\n",
        "        flist = [\".0f\", \".0f\", \".1f\",\n",
        "                 \".0f\", \".0f\", \".0f\", \".0f\", \".0f\", \".0f\", \".0f\", \".0f\", \".0f\", \".0f\", \".0f\", \".0f\", \".0f\", \".0f\"]\n",
        "\n",
        "    head = features[:vs]\n",
        "    if vs < u_s:\n",
        "        print(\"error, vector start {vs} should be greater than user start {u_s}\")\n",
        "    for i in range(u_s):\n",
        "        head[i] = \"[\" + head[i] + \"]\"\n",
        "    genres = features[vs:]\n",
        "    hdr = head + genres\n",
        "    disp = [split_str(hdr, 5)]\n",
        "    count = 0\n",
        "    for i in range(x_train.shape[0]):\n",
        "        if count == maxcount:\n",
        "            break\n",
        "        count += 1\n",
        "        disp.append([\n",
        "            x_train[i, 0].astype(int),\n",
        "            x_train[i, 1].astype(int),\n",
        "            x_train[i, 2].astype(float),\n",
        "            *x_train[i, 3:].astype(float)\n",
        "        ])\n",
        "    table = tabulate.tabulate(disp, tablefmt='html', headers=\"firstrow\", floatfmt=flist, numalign='center')\n",
        "    return table\n"
      ],
      "metadata": {
        "id": "t7ny8lAk0sKm"
      },
      "execution_count": 37,
      "outputs": []
    },
    {
      "cell_type": "code",
      "source": [
        "# Load Data, set configuration variables\n",
        "item_train, user_train, y_train, item_features, user_features, item_vecs, movie_dict, user_to_genre = load_data()\n",
        "\n",
        "num_user_features = user_train.shape[1] - 3  # remove userid, rating count and ave rating during training\n",
        "num_item_features = item_train.shape[1] - 1  # remove movie id at train time\n",
        "uvs = 3  # user genre vector start\n",
        "ivs = 3  # item genre vector start\n",
        "u_s = 3  # start of columns to use in training, user\n",
        "i_s = 1  # start of columns to use in training, items\n",
        "print(f\"Number of training vectors: {len(item_train)}\")"
      ],
      "metadata": {
        "colab": {
          "base_uri": "https://localhost:8080/"
        },
        "id": "jpBo34Cv0uWY",
        "outputId": "990b5a40-b9a8-4594-c9f5-0cc11ef54336"
      },
      "execution_count": 38,
      "outputs": [
        {
          "output_type": "stream",
          "name": "stdout",
          "text": [
            "Number of training vectors: 50884\n"
          ]
        },
        {
          "output_type": "stream",
          "name": "stderr",
          "text": [
            "<ipython-input-36-2e4b384739ad>:35: DeprecationWarning: numpy.core.numeric is deprecated and has been renamed to numpy._core.numeric. The numpy._core namespace contains private NumPy internals and its use is discouraged, as NumPy internals can change without warning in any release. In practice, most real-world usage of numpy.core is to access functionality in the public NumPy API. If that is the case, use the public NumPy API. If not, you are using NumPy internals. If you would still like to access an internal attribute, use numpy._core.numeric._frombuffer.\n",
            "  user_to_genre = pickle.load(f)\n"
          ]
        }
      ]
    },
    {
      "cell_type": "code",
      "source": [
        "user_train[0]"
      ],
      "metadata": {
        "colab": {
          "base_uri": "https://localhost:8080/"
        },
        "id": "pvV536kH0xr-",
        "outputId": "eedc8722-6a03-4a12-9ea8-7eb7b68c9407"
      },
      "execution_count": 7,
      "outputs": [
        {
          "output_type": "execute_result",
          "data": {
            "text/plain": [
              "array([ 2.  , 22.  ,  4.  ,  3.95,  4.25,  0.  ,  0.  ,  4.  ,  4.12,\n",
              "        4.  ,  4.04,  0.  ,  3.  ,  4.  ,  0.  ,  3.88,  3.89])"
            ]
          },
          "metadata": {},
          "execution_count": 7
        }
      ]
    },
    {
      "cell_type": "code",
      "source": [
        "from IPython.display import HTML\n",
        "html_code = pprint_train(user_train, user_features, uvs,  u_s, maxcount=7)\n",
        "display(HTML(html_code))\n"
      ],
      "metadata": {
        "colab": {
          "base_uri": "https://localhost:8080/",
          "height": 186
        },
        "id": "su6KCFHh04b2",
        "outputId": "00937911-e1a5-4129-da2e-ed9ba27c69b8"
      },
      "execution_count": 8,
      "outputs": [
        {
          "output_type": "display_data",
          "data": {
            "text/plain": [
              "<IPython.core.display.HTML object>"
            ],
            "text/html": [
              "<table>\n",
              "<thead>\n",
              "<tr><th style=\"text-align: center;\"> [user id] </th><th style=\"text-align: center;\"> [rating count] </th><th style=\"text-align: center;\"> [rating ave] </th><th style=\"text-align: center;\"> Act ion </th><th style=\"text-align: center;\"> Adve nture </th><th style=\"text-align: center;\"> Anim ation </th><th style=\"text-align: center;\"> Chil dren </th><th style=\"text-align: center;\"> Com edy </th><th style=\"text-align: center;\"> Crime </th><th style=\"text-align: center;\"> Docum entary </th><th style=\"text-align: center;\"> Drama </th><th style=\"text-align: center;\"> Fan tasy </th><th style=\"text-align: center;\"> Hor ror </th><th style=\"text-align: center;\"> Mys tery </th><th style=\"text-align: center;\"> Rom ance </th><th style=\"text-align: center;\"> Sci -Fi </th><th style=\"text-align: center;\"> Thri ller </th></tr>\n",
              "</thead>\n",
              "<tbody>\n",
              "<tr><td style=\"text-align: center;\">     2     </td><td style=\"text-align: center;\">       22       </td><td style=\"text-align: center;\">     4.0      </td><td style=\"text-align: center;\">   4.0   </td><td style=\"text-align: center;\">    4.2     </td><td style=\"text-align: center;\">    0.0     </td><td style=\"text-align: center;\">    0.0    </td><td style=\"text-align: center;\">   4.0   </td><td style=\"text-align: center;\">  4.1  </td><td style=\"text-align: center;\">     4.0      </td><td style=\"text-align: center;\">  4.0  </td><td style=\"text-align: center;\">   0.0    </td><td style=\"text-align: center;\">   3.0   </td><td style=\"text-align: center;\">   4.0    </td><td style=\"text-align: center;\">   0.0    </td><td style=\"text-align: center;\">   3.9   </td><td style=\"text-align: center;\">    3.9    </td></tr>\n",
              "<tr><td style=\"text-align: center;\">     2     </td><td style=\"text-align: center;\">       22       </td><td style=\"text-align: center;\">     4.0      </td><td style=\"text-align: center;\">   4.0   </td><td style=\"text-align: center;\">    4.2     </td><td style=\"text-align: center;\">    0.0     </td><td style=\"text-align: center;\">    0.0    </td><td style=\"text-align: center;\">   4.0   </td><td style=\"text-align: center;\">  4.1  </td><td style=\"text-align: center;\">     4.0      </td><td style=\"text-align: center;\">  4.0  </td><td style=\"text-align: center;\">   0.0    </td><td style=\"text-align: center;\">   3.0   </td><td style=\"text-align: center;\">   4.0    </td><td style=\"text-align: center;\">   0.0    </td><td style=\"text-align: center;\">   3.9   </td><td style=\"text-align: center;\">    3.9    </td></tr>\n",
              "<tr><td style=\"text-align: center;\">     2     </td><td style=\"text-align: center;\">       22       </td><td style=\"text-align: center;\">     4.0      </td><td style=\"text-align: center;\">   4.0   </td><td style=\"text-align: center;\">    4.2     </td><td style=\"text-align: center;\">    0.0     </td><td style=\"text-align: center;\">    0.0    </td><td style=\"text-align: center;\">   4.0   </td><td style=\"text-align: center;\">  4.1  </td><td style=\"text-align: center;\">     4.0      </td><td style=\"text-align: center;\">  4.0  </td><td style=\"text-align: center;\">   0.0    </td><td style=\"text-align: center;\">   3.0   </td><td style=\"text-align: center;\">   4.0    </td><td style=\"text-align: center;\">   0.0    </td><td style=\"text-align: center;\">   3.9   </td><td style=\"text-align: center;\">    3.9    </td></tr>\n",
              "<tr><td style=\"text-align: center;\">     2     </td><td style=\"text-align: center;\">       22       </td><td style=\"text-align: center;\">     4.0      </td><td style=\"text-align: center;\">   4.0   </td><td style=\"text-align: center;\">    4.2     </td><td style=\"text-align: center;\">    0.0     </td><td style=\"text-align: center;\">    0.0    </td><td style=\"text-align: center;\">   4.0   </td><td style=\"text-align: center;\">  4.1  </td><td style=\"text-align: center;\">     4.0      </td><td style=\"text-align: center;\">  4.0  </td><td style=\"text-align: center;\">   0.0    </td><td style=\"text-align: center;\">   3.0   </td><td style=\"text-align: center;\">   4.0    </td><td style=\"text-align: center;\">   0.0    </td><td style=\"text-align: center;\">   3.9   </td><td style=\"text-align: center;\">    3.9    </td></tr>\n",
              "<tr><td style=\"text-align: center;\">     2     </td><td style=\"text-align: center;\">       22       </td><td style=\"text-align: center;\">     4.0      </td><td style=\"text-align: center;\">   4.0   </td><td style=\"text-align: center;\">    4.2     </td><td style=\"text-align: center;\">    0.0     </td><td style=\"text-align: center;\">    0.0    </td><td style=\"text-align: center;\">   4.0   </td><td style=\"text-align: center;\">  4.1  </td><td style=\"text-align: center;\">     4.0      </td><td style=\"text-align: center;\">  4.0  </td><td style=\"text-align: center;\">   0.0    </td><td style=\"text-align: center;\">   3.0   </td><td style=\"text-align: center;\">   4.0    </td><td style=\"text-align: center;\">   0.0    </td><td style=\"text-align: center;\">   3.9   </td><td style=\"text-align: center;\">    3.9    </td></tr>\n",
              "<tr><td style=\"text-align: center;\">     2     </td><td style=\"text-align: center;\">       22       </td><td style=\"text-align: center;\">     4.0      </td><td style=\"text-align: center;\">   4.0   </td><td style=\"text-align: center;\">    4.2     </td><td style=\"text-align: center;\">    0.0     </td><td style=\"text-align: center;\">    0.0    </td><td style=\"text-align: center;\">   4.0   </td><td style=\"text-align: center;\">  4.1  </td><td style=\"text-align: center;\">     4.0      </td><td style=\"text-align: center;\">  4.0  </td><td style=\"text-align: center;\">   0.0    </td><td style=\"text-align: center;\">   3.0   </td><td style=\"text-align: center;\">   4.0    </td><td style=\"text-align: center;\">   0.0    </td><td style=\"text-align: center;\">   3.9   </td><td style=\"text-align: center;\">    3.9    </td></tr>\n",
              "<tr><td style=\"text-align: center;\">     2     </td><td style=\"text-align: center;\">       22       </td><td style=\"text-align: center;\">     4.0      </td><td style=\"text-align: center;\">   4.0   </td><td style=\"text-align: center;\">    4.2     </td><td style=\"text-align: center;\">    0.0     </td><td style=\"text-align: center;\">    0.0    </td><td style=\"text-align: center;\">   4.0   </td><td style=\"text-align: center;\">  4.1  </td><td style=\"text-align: center;\">     4.0      </td><td style=\"text-align: center;\">  4.0  </td><td style=\"text-align: center;\">   0.0    </td><td style=\"text-align: center;\">   3.0   </td><td style=\"text-align: center;\">   4.0    </td><td style=\"text-align: center;\">   0.0    </td><td style=\"text-align: center;\">   3.9   </td><td style=\"text-align: center;\">    3.9    </td></tr>\n",
              "</tbody>\n",
              "</table>"
            ]
          },
          "metadata": {}
        }
      ]
    },
    {
      "cell_type": "code",
      "source": [
        "html_code_ = pprint_train(item_train, item_features, ivs, i_s, maxcount=5, user=False)\n",
        "display(HTML(html_code_))"
      ],
      "metadata": {
        "colab": {
          "base_uri": "https://localhost:8080/",
          "height": 144
        },
        "id": "6XusLAbE1IQH",
        "outputId": "61e08ef5-d80c-4bda-ced6-a52bbc078f4a"
      },
      "execution_count": 9,
      "outputs": [
        {
          "output_type": "display_data",
          "data": {
            "text/plain": [
              "<IPython.core.display.HTML object>"
            ],
            "text/html": [
              "<table>\n",
              "<thead>\n",
              "<tr><th style=\"text-align: center;\"> [movie id] </th><th style=\"text-align: center;\"> year </th><th style=\"text-align: center;\"> ave rating </th><th style=\"text-align: center;\"> Act ion </th><th style=\"text-align: center;\"> Adve nture </th><th style=\"text-align: center;\"> Anim ation </th><th style=\"text-align: center;\"> Chil dren </th><th style=\"text-align: center;\"> Com edy </th><th style=\"text-align: center;\"> Crime </th><th style=\"text-align: center;\"> Docum entary </th><th style=\"text-align: center;\"> Drama </th><th style=\"text-align: center;\"> Fan tasy </th><th style=\"text-align: center;\"> Hor ror </th><th style=\"text-align: center;\"> Mys tery </th><th style=\"text-align: center;\"> Rom ance </th><th style=\"text-align: center;\"> Sci -Fi </th><th style=\"text-align: center;\"> Thri ller </th></tr>\n",
              "</thead>\n",
              "<tbody>\n",
              "<tr><td style=\"text-align: center;\">    6874    </td><td style=\"text-align: center;\"> 2003 </td><td style=\"text-align: center;\">    4.0     </td><td style=\"text-align: center;\">    1    </td><td style=\"text-align: center;\">     0      </td><td style=\"text-align: center;\">     0      </td><td style=\"text-align: center;\">     0     </td><td style=\"text-align: center;\">    0    </td><td style=\"text-align: center;\">   1   </td><td style=\"text-align: center;\">      0       </td><td style=\"text-align: center;\">   0   </td><td style=\"text-align: center;\">    0     </td><td style=\"text-align: center;\">    0    </td><td style=\"text-align: center;\">    0     </td><td style=\"text-align: center;\">    0     </td><td style=\"text-align: center;\">    0    </td><td style=\"text-align: center;\">     1     </td></tr>\n",
              "<tr><td style=\"text-align: center;\">    8798    </td><td style=\"text-align: center;\"> 2004 </td><td style=\"text-align: center;\">    3.8     </td><td style=\"text-align: center;\">    1    </td><td style=\"text-align: center;\">     0      </td><td style=\"text-align: center;\">     0      </td><td style=\"text-align: center;\">     0     </td><td style=\"text-align: center;\">    0    </td><td style=\"text-align: center;\">   1   </td><td style=\"text-align: center;\">      0       </td><td style=\"text-align: center;\">   1   </td><td style=\"text-align: center;\">    0     </td><td style=\"text-align: center;\">    0    </td><td style=\"text-align: center;\">    0     </td><td style=\"text-align: center;\">    0     </td><td style=\"text-align: center;\">    0    </td><td style=\"text-align: center;\">     1     </td></tr>\n",
              "<tr><td style=\"text-align: center;\">   46970    </td><td style=\"text-align: center;\"> 2006 </td><td style=\"text-align: center;\">    3.2     </td><td style=\"text-align: center;\">    1    </td><td style=\"text-align: center;\">     0      </td><td style=\"text-align: center;\">     0      </td><td style=\"text-align: center;\">     0     </td><td style=\"text-align: center;\">    1    </td><td style=\"text-align: center;\">   0   </td><td style=\"text-align: center;\">      0       </td><td style=\"text-align: center;\">   0   </td><td style=\"text-align: center;\">    0     </td><td style=\"text-align: center;\">    0    </td><td style=\"text-align: center;\">    0     </td><td style=\"text-align: center;\">    0     </td><td style=\"text-align: center;\">    0    </td><td style=\"text-align: center;\">     0     </td></tr>\n",
              "<tr><td style=\"text-align: center;\">   48516    </td><td style=\"text-align: center;\"> 2006 </td><td style=\"text-align: center;\">    4.3     </td><td style=\"text-align: center;\">    0    </td><td style=\"text-align: center;\">     0      </td><td style=\"text-align: center;\">     0      </td><td style=\"text-align: center;\">     0     </td><td style=\"text-align: center;\">    0    </td><td style=\"text-align: center;\">   1   </td><td style=\"text-align: center;\">      0       </td><td style=\"text-align: center;\">   1   </td><td style=\"text-align: center;\">    0     </td><td style=\"text-align: center;\">    0    </td><td style=\"text-align: center;\">    0     </td><td style=\"text-align: center;\">    0     </td><td style=\"text-align: center;\">    0    </td><td style=\"text-align: center;\">     1     </td></tr>\n",
              "<tr><td style=\"text-align: center;\">   58559    </td><td style=\"text-align: center;\"> 2008 </td><td style=\"text-align: center;\">    4.2     </td><td style=\"text-align: center;\">    1    </td><td style=\"text-align: center;\">     0      </td><td style=\"text-align: center;\">     0      </td><td style=\"text-align: center;\">     0     </td><td style=\"text-align: center;\">    0    </td><td style=\"text-align: center;\">   1   </td><td style=\"text-align: center;\">      0       </td><td style=\"text-align: center;\">   1   </td><td style=\"text-align: center;\">    0     </td><td style=\"text-align: center;\">    0    </td><td style=\"text-align: center;\">    0     </td><td style=\"text-align: center;\">    0     </td><td style=\"text-align: center;\">    0    </td><td style=\"text-align: center;\">     0     </td></tr>\n",
              "</tbody>\n",
              "</table>"
            ]
          },
          "metadata": {}
        }
      ]
    },
    {
      "cell_type": "markdown",
      "source": [
        "Above, the movie array contains the year the film was released, the average rating and an indicator for each potential genre. The indicator is one for each genre that applies to the movie. The movie id is not used in training but is useful when interpreting the data."
      ],
      "metadata": {
        "id": "J_qe1mT22NmD"
      }
    },
    {
      "cell_type": "code",
      "source": [
        "print(f\"y_train[:5]: {y_train[:5]}\")"
      ],
      "metadata": {
        "colab": {
          "base_uri": "https://localhost:8080/"
        },
        "id": "_o8Ot0tk2KIO",
        "outputId": "b9e73669-7166-42a8-8c0c-437e757d5479"
      },
      "execution_count": 10,
      "outputs": [
        {
          "output_type": "stream",
          "name": "stdout",
          "text": [
            "y_train[:5]: [4.  3.5 4.  4.  4.5]\n"
          ]
        }
      ]
    },
    {
      "cell_type": "markdown",
      "source": [
        "The target, y, is the movie rating given by the user."
      ],
      "metadata": {
        "id": "_0C_v-J-2VjC"
      }
    },
    {
      "cell_type": "markdown",
      "source": [
        "<a name=\"3.2\"></a>\n",
        "### 3.2 Preparing the training data\n",
        "We'll scale the input features using the [scikit learn StandardScaler](https://scikit-learn.org/stable/modules/generated/sklearn.preprocessing.StandardScaler.html).\n",
        "Below, the inverse_transform is also shown to produce the original inputs. We'll scale the target ratings using a Min Max Scaler which scales the target to be between -1 and 1. [scikit learn MinMaxScaler](https://scikit-learn.org/stable/modules/generated/sklearn.preprocessing.MinMaxScaler.html)"
      ],
      "metadata": {
        "id": "yeMPVgWW2Zlf"
      }
    },
    {
      "cell_type": "code",
      "source": [
        "# Save original versions of the data before normalization\n",
        "item_train_unscaled = item_train\n",
        "user_train_unscaled = user_train\n",
        "y_train_unscaled    = y_train\n",
        "\n",
        "# Normalize item feature vectors using standard scaling (mean=0, std=1)\n",
        "scalerItem = StandardScaler()\n",
        "scalerItem.fit(item_train)\n",
        "item_train = scalerItem.transform(item_train)\n",
        "\n",
        "# Normalize user feature vectors similarly\n",
        "scalerUser = StandardScaler()\n",
        "scalerUser.fit(user_train)\n",
        "user_train = scalerUser.transform(user_train)\n",
        "\n",
        "# Scale the target ratings to the range [-1, 1] using Min-Max normalization\n",
        "scalerTarget = MinMaxScaler((-1, 1))\n",
        "scalerTarget.fit(y_train.reshape(-1, 1))\n",
        "y_train = scalerTarget.transform(y_train.reshape(-1, 1))\n",
        "# ynorm_test = scalerTarget.transform(y_test.reshape(-1, 1))  # Uncomment if needed for test data\n",
        "\n",
        "# Check if scaling and inverse transformation restores the original data\n",
        "print(np.allclose(item_train_unscaled, scalerItem.inverse_transform(item_train)))\n",
        "print(np.allclose(user_train_unscaled, scalerUser.inverse_transform(user_train)))\n"
      ],
      "metadata": {
        "colab": {
          "base_uri": "https://localhost:8080/"
        },
        "id": "ugIZ6kdV2aUP",
        "outputId": "991eab56-6af2-4cbb-f361-30e1c3fa5166"
      },
      "execution_count": 39,
      "outputs": [
        {
          "output_type": "stream",
          "name": "stdout",
          "text": [
            "True\n",
            "True\n"
          ]
        }
      ]
    },
    {
      "cell_type": "code",
      "source": [
        "# Split the data into training and test sets (80% train, 20% test)\n",
        "# Shuffling ensures a good mix, and random_state makes the split reproducible\n",
        "item_train, item_test = train_test_split(item_train, train_size=0.80, shuffle=True, random_state=1)\n",
        "user_train, user_test = train_test_split(user_train, train_size=0.80, shuffle=True, random_state=1)\n",
        "y_train, y_test       = train_test_split(y_train,    train_size=0.80, shuffle=True, random_state=1)\n",
        "\n",
        "# Display the shapes of the resulting training and test sets for items\n",
        "print(f\"movie/item training data shape: {item_train.shape}\")\n",
        "print(f\"movie/item test data shape: {item_test.shape}\")\n"
      ],
      "metadata": {
        "colab": {
          "base_uri": "https://localhost:8080/"
        },
        "id": "kNRoHOCj2dnk",
        "outputId": "db392145-6e82-48a4-97ae-dacf510c6516"
      },
      "execution_count": 40,
      "outputs": [
        {
          "output_type": "stream",
          "name": "stdout",
          "text": [
            "movie/item training data shape: (40707, 17)\n",
            "movie/item test data shape: (10177, 17)\n"
          ]
        }
      ]
    },
    {
      "cell_type": "markdown",
      "source": [
        "The scaled, shuffled data now has a mean of zero."
      ],
      "metadata": {
        "id": "Chs_rvCD2jaa"
      }
    },
    {
      "cell_type": "code",
      "source": [
        "html_code3 = pprint_train(user_train, user_features, uvs, u_s, maxcount=5)\n",
        "display(HTML(html_code3))"
      ],
      "metadata": {
        "colab": {
          "base_uri": "https://localhost:8080/",
          "height": 144
        },
        "id": "SJjJ-CsB2g_P",
        "outputId": "e45de9ff-a17f-4f9f-b31f-073c6e0275bb"
      },
      "execution_count": 13,
      "outputs": [
        {
          "output_type": "display_data",
          "data": {
            "text/plain": [
              "<IPython.core.display.HTML object>"
            ],
            "text/html": [
              "<table>\n",
              "<thead>\n",
              "<tr><th style=\"text-align: center;\"> [user id] </th><th style=\"text-align: center;\"> [rating count] </th><th style=\"text-align: center;\"> [rating ave] </th><th style=\"text-align: center;\"> Act ion </th><th style=\"text-align: center;\"> Adve nture </th><th style=\"text-align: center;\"> Anim ation </th><th style=\"text-align: center;\"> Chil dren </th><th style=\"text-align: center;\"> Com edy </th><th style=\"text-align: center;\"> Crime </th><th style=\"text-align: center;\"> Docum entary </th><th style=\"text-align: center;\"> Drama </th><th style=\"text-align: center;\"> Fan tasy </th><th style=\"text-align: center;\"> Hor ror </th><th style=\"text-align: center;\"> Mys tery </th><th style=\"text-align: center;\"> Rom ance </th><th style=\"text-align: center;\"> Sci -Fi </th><th style=\"text-align: center;\"> Thri ller </th></tr>\n",
              "</thead>\n",
              "<tbody>\n",
              "<tr><td style=\"text-align: center;\">     1     </td><td style=\"text-align: center;\">       0        </td><td style=\"text-align: center;\">     -1.0     </td><td style=\"text-align: center;\">  -0.8   </td><td style=\"text-align: center;\">    -0.7    </td><td style=\"text-align: center;\">    0.1     </td><td style=\"text-align: center;\">   -0.0    </td><td style=\"text-align: center;\">  -1.2   </td><td style=\"text-align: center;\"> -0.4  </td><td style=\"text-align: center;\">     0.6      </td><td style=\"text-align: center;\"> -0.5  </td><td style=\"text-align: center;\">   -0.5   </td><td style=\"text-align: center;\">  -0.1   </td><td style=\"text-align: center;\">   -0.6   </td><td style=\"text-align: center;\">   -0.6   </td><td style=\"text-align: center;\">  -0.7   </td><td style=\"text-align: center;\">   -0.7    </td></tr>\n",
              "<tr><td style=\"text-align: center;\">     0     </td><td style=\"text-align: center;\">       1        </td><td style=\"text-align: center;\">     -0.7     </td><td style=\"text-align: center;\">  -0.5   </td><td style=\"text-align: center;\">    -0.7    </td><td style=\"text-align: center;\">    -0.1    </td><td style=\"text-align: center;\">   -0.2    </td><td style=\"text-align: center;\">  -0.6   </td><td style=\"text-align: center;\"> -0.2  </td><td style=\"text-align: center;\">     0.7      </td><td style=\"text-align: center;\"> -0.5  </td><td style=\"text-align: center;\">   -0.8   </td><td style=\"text-align: center;\">   0.1   </td><td style=\"text-align: center;\">   -0.0   </td><td style=\"text-align: center;\">   -0.6   </td><td style=\"text-align: center;\">  -0.5   </td><td style=\"text-align: center;\">   -0.4    </td></tr>\n",
              "<tr><td style=\"text-align: center;\">    -1     </td><td style=\"text-align: center;\">       -1       </td><td style=\"text-align: center;\">     -0.2     </td><td style=\"text-align: center;\">   0.3   </td><td style=\"text-align: center;\">    -0.4    </td><td style=\"text-align: center;\">    0.4     </td><td style=\"text-align: center;\">    0.5    </td><td style=\"text-align: center;\">   1.0   </td><td style=\"text-align: center;\">  0.6  </td><td style=\"text-align: center;\">     -1.2     </td><td style=\"text-align: center;\"> -0.3  </td><td style=\"text-align: center;\">   -0.6   </td><td style=\"text-align: center;\">  -2.3   </td><td style=\"text-align: center;\">   -0.1   </td><td style=\"text-align: center;\">   0.0    </td><td style=\"text-align: center;\">   0.4   </td><td style=\"text-align: center;\">   -0.0    </td></tr>\n",
              "<tr><td style=\"text-align: center;\">     0     </td><td style=\"text-align: center;\">       -1       </td><td style=\"text-align: center;\">     0.6      </td><td style=\"text-align: center;\">   0.5   </td><td style=\"text-align: center;\">    0.5     </td><td style=\"text-align: center;\">    0.2     </td><td style=\"text-align: center;\">    0.6    </td><td style=\"text-align: center;\">  -0.1   </td><td style=\"text-align: center;\">  0.5  </td><td style=\"text-align: center;\">     -1.2     </td><td style=\"text-align: center;\">  0.9  </td><td style=\"text-align: center;\">   1.2    </td><td style=\"text-align: center;\">  -2.3   </td><td style=\"text-align: center;\">   -0.1   </td><td style=\"text-align: center;\">   0.0    </td><td style=\"text-align: center;\">   0.2   </td><td style=\"text-align: center;\">    0.3    </td></tr>\n",
              "<tr><td style=\"text-align: center;\">    -1     </td><td style=\"text-align: center;\">       0        </td><td style=\"text-align: center;\">     0.7      </td><td style=\"text-align: center;\">   0.6   </td><td style=\"text-align: center;\">    0.5     </td><td style=\"text-align: center;\">    0.3     </td><td style=\"text-align: center;\">    0.5    </td><td style=\"text-align: center;\">   0.4   </td><td style=\"text-align: center;\">  0.6  </td><td style=\"text-align: center;\">     1.0      </td><td style=\"text-align: center;\">  0.6  </td><td style=\"text-align: center;\">   0.3    </td><td style=\"text-align: center;\">   0.8   </td><td style=\"text-align: center;\">   0.8    </td><td style=\"text-align: center;\">   0.4    </td><td style=\"text-align: center;\">   0.7   </td><td style=\"text-align: center;\">    0.7    </td></tr>\n",
              "</tbody>\n",
              "</table>"
            ]
          },
          "metadata": {}
        }
      ]
    },
    {
      "cell_type": "markdown",
      "source": [
        "<a name=\"4\"></a>\n",
        "## 4 - Neural Network for Content-Based Filtering\n",
        "\n",
        "In this section, we'll build two neural networks for content-based recommendation.\n",
        "\n",
        "### Model Architecture\n",
        "\n",
        "We'll use a Keras Sequential model with the following structure:\n",
        "\n",
        "- A Dense layer with 256 units and ReLU activation.\n",
        "- Followed by another Dense layer with 128 units and ReLU activation.\n",
        "- The final layer is a Dense layer with `num_outputs` units, using a linear activation (or no activation function).\n",
        "\n",
        "This setup will be used to learn both user and item embeddings based on content features.\n"
      ],
      "metadata": {
        "id": "3tSqDi6O4hS7"
      }
    },
    {
      "cell_type": "code",
      "source": [
        "import tensorflow as tf\n",
        "\n",
        "# Number of outputs from the neural networks\n",
        "num_outputs = 32\n",
        "\n",
        "# Set the random seed for reproducibility\n",
        "tf.random.set_seed(1)\n",
        "\n",
        "# Define the User Neural Network\n",
        "user_NN = tf.keras.models.Sequential([\n",
        "    tf.keras.layers.Dense(256, activation='relu'),\n",
        "    tf.keras.layers.Dense(128, activation='relu'),\n",
        "    tf.keras.layers.Dense(num_outputs),\n",
        "    tf.keras.layers.Lambda(lambda x: tf.linalg.l2_normalize(x, axis=1))  # Normalize the output vectors\n",
        "])\n",
        "\n",
        "# Define the Item Neural Network\n",
        "item_NN = tf.keras.models.Sequential([\n",
        "    tf.keras.layers.Dense(256, activation='relu'),\n",
        "    tf.keras.layers.Dense(128, activation='relu'),\n",
        "    tf.keras.layers.Dense(num_outputs),\n",
        "    tf.keras.layers.Lambda(lambda x: tf.linalg.l2_normalize(x, axis=1))  # Normalize the output vectors\n",
        "])\n",
        "\n",
        "# Create the user input layer and apply the user network\n",
        "input_user = tf.keras.layers.Input(shape=(num_user_features, ))  # User feature input\n",
        "vu = user_NN(input_user)\n",
        "vu = tf.keras.layers.Lambda(lambda x: tf.linalg.l2_normalize(x, axis=1))(vu)  # Normalize user vector\n",
        "\n",
        "# Create the item input layer and apply the item network\n",
        "input_item = tf.keras.layers.Input(shape=(num_item_features, ))  # Item feature input\n",
        "vm = item_NN(input_item)\n",
        "vm = tf.keras.layers.Lambda(lambda x: tf.linalg.l2_normalize(x, axis=1))(vm)  # Normalize item vector\n",
        "\n",
        "# Compute the dot product of the user and item vectors (prediction)\n",
        "output = tf.keras.layers.Dot(axes=1)([vu, vm])\n",
        "\n",
        "# Create the model specifying the inputs and the output\n",
        "model = tf.keras.Model([input_user, input_item], output)\n",
        "\n",
        "# Show the model summary to verify the architecture\n",
        "model.summary()\n"
      ],
      "metadata": {
        "colab": {
          "base_uri": "https://localhost:8080/",
          "height": 433
        },
        "id": "KnxIxcx32via",
        "outputId": "270e9b8b-c6ad-40bb-d692-635dae1ee38b"
      },
      "execution_count": 41,
      "outputs": [
        {
          "output_type": "display_data",
          "data": {
            "text/plain": [
              "\u001b[1mModel: \"functional_7\"\u001b[0m\n"
            ],
            "text/html": [
              "<pre style=\"white-space:pre;overflow-x:auto;line-height:normal;font-family:Menlo,'DejaVu Sans Mono',consolas,'Courier New',monospace\"><span style=\"font-weight: bold\">Model: \"functional_7\"</span>\n",
              "</pre>\n"
            ]
          },
          "metadata": {}
        },
        {
          "output_type": "display_data",
          "data": {
            "text/plain": [
              "┏━━━━━━━━━━━━━━━━━━━━━┳━━━━━━━━━━━━━━━━━━━┳━━━━━━━━━━━━┳━━━━━━━━━━━━━━━━━━━┓\n",
              "┃\u001b[1m \u001b[0m\u001b[1mLayer (type)       \u001b[0m\u001b[1m \u001b[0m┃\u001b[1m \u001b[0m\u001b[1mOutput Shape     \u001b[0m\u001b[1m \u001b[0m┃\u001b[1m \u001b[0m\u001b[1m   Param #\u001b[0m\u001b[1m \u001b[0m┃\u001b[1m \u001b[0m\u001b[1mConnected to     \u001b[0m\u001b[1m \u001b[0m┃\n",
              "┡━━━━━━━━━━━━━━━━━━━━━╇━━━━━━━━━━━━━━━━━━━╇━━━━━━━━━━━━╇━━━━━━━━━━━━━━━━━━━┩\n",
              "│ input_layer_10      │ (\u001b[38;5;45mNone\u001b[0m, \u001b[38;5;34m14\u001b[0m)        │          \u001b[38;5;34m0\u001b[0m │ -                 │\n",
              "│ (\u001b[38;5;33mInputLayer\u001b[0m)        │                   │            │                   │\n",
              "├─────────────────────┼───────────────────┼────────────┼───────────────────┤\n",
              "│ input_layer_12      │ (\u001b[38;5;45mNone\u001b[0m, \u001b[38;5;34m16\u001b[0m)        │          \u001b[38;5;34m0\u001b[0m │ -                 │\n",
              "│ (\u001b[38;5;33mInputLayer\u001b[0m)        │                   │            │                   │\n",
              "├─────────────────────┼───────────────────┼────────────┼───────────────────┤\n",
              "│ sequential_10       │ (\u001b[38;5;45mNone\u001b[0m, \u001b[38;5;34m32\u001b[0m)        │     \u001b[38;5;34m40,864\u001b[0m │ input_layer_10[\u001b[38;5;34m0\u001b[0m… │\n",
              "│ (\u001b[38;5;33mSequential\u001b[0m)        │                   │            │                   │\n",
              "├─────────────────────┼───────────────────┼────────────┼───────────────────┤\n",
              "│ sequential_11       │ (\u001b[38;5;45mNone\u001b[0m, \u001b[38;5;34m32\u001b[0m)        │     \u001b[38;5;34m41,376\u001b[0m │ input_layer_12[\u001b[38;5;34m0\u001b[0m… │\n",
              "│ (\u001b[38;5;33mSequential\u001b[0m)        │                   │            │                   │\n",
              "├─────────────────────┼───────────────────┼────────────┼───────────────────┤\n",
              "│ lambda_8 (\u001b[38;5;33mLambda\u001b[0m)   │ (\u001b[38;5;45mNone\u001b[0m, \u001b[38;5;34m32\u001b[0m)        │          \u001b[38;5;34m0\u001b[0m │ sequential_10[\u001b[38;5;34m0\u001b[0m]… │\n",
              "├─────────────────────┼───────────────────┼────────────┼───────────────────┤\n",
              "│ lambda_9 (\u001b[38;5;33mLambda\u001b[0m)   │ (\u001b[38;5;45mNone\u001b[0m, \u001b[38;5;34m32\u001b[0m)        │          \u001b[38;5;34m0\u001b[0m │ sequential_11[\u001b[38;5;34m0\u001b[0m]… │\n",
              "├─────────────────────┼───────────────────┼────────────┼───────────────────┤\n",
              "│ dot_1 (\u001b[38;5;33mDot\u001b[0m)         │ (\u001b[38;5;45mNone\u001b[0m, \u001b[38;5;34m1\u001b[0m)         │          \u001b[38;5;34m0\u001b[0m │ lambda_8[\u001b[38;5;34m0\u001b[0m][\u001b[38;5;34m0\u001b[0m],   │\n",
              "│                     │                   │            │ lambda_9[\u001b[38;5;34m0\u001b[0m][\u001b[38;5;34m0\u001b[0m]    │\n",
              "└─────────────────────┴───────────────────┴────────────┴───────────────────┘\n"
            ],
            "text/html": [
              "<pre style=\"white-space:pre;overflow-x:auto;line-height:normal;font-family:Menlo,'DejaVu Sans Mono',consolas,'Courier New',monospace\">┏━━━━━━━━━━━━━━━━━━━━━┳━━━━━━━━━━━━━━━━━━━┳━━━━━━━━━━━━┳━━━━━━━━━━━━━━━━━━━┓\n",
              "┃<span style=\"font-weight: bold\"> Layer (type)        </span>┃<span style=\"font-weight: bold\"> Output Shape      </span>┃<span style=\"font-weight: bold\">    Param # </span>┃<span style=\"font-weight: bold\"> Connected to      </span>┃\n",
              "┡━━━━━━━━━━━━━━━━━━━━━╇━━━━━━━━━━━━━━━━━━━╇━━━━━━━━━━━━╇━━━━━━━━━━━━━━━━━━━┩\n",
              "│ input_layer_10      │ (<span style=\"color: #00d7ff; text-decoration-color: #00d7ff\">None</span>, <span style=\"color: #00af00; text-decoration-color: #00af00\">14</span>)        │          <span style=\"color: #00af00; text-decoration-color: #00af00\">0</span> │ -                 │\n",
              "│ (<span style=\"color: #0087ff; text-decoration-color: #0087ff\">InputLayer</span>)        │                   │            │                   │\n",
              "├─────────────────────┼───────────────────┼────────────┼───────────────────┤\n",
              "│ input_layer_12      │ (<span style=\"color: #00d7ff; text-decoration-color: #00d7ff\">None</span>, <span style=\"color: #00af00; text-decoration-color: #00af00\">16</span>)        │          <span style=\"color: #00af00; text-decoration-color: #00af00\">0</span> │ -                 │\n",
              "│ (<span style=\"color: #0087ff; text-decoration-color: #0087ff\">InputLayer</span>)        │                   │            │                   │\n",
              "├─────────────────────┼───────────────────┼────────────┼───────────────────┤\n",
              "│ sequential_10       │ (<span style=\"color: #00d7ff; text-decoration-color: #00d7ff\">None</span>, <span style=\"color: #00af00; text-decoration-color: #00af00\">32</span>)        │     <span style=\"color: #00af00; text-decoration-color: #00af00\">40,864</span> │ input_layer_10[<span style=\"color: #00af00; text-decoration-color: #00af00\">0</span>… │\n",
              "│ (<span style=\"color: #0087ff; text-decoration-color: #0087ff\">Sequential</span>)        │                   │            │                   │\n",
              "├─────────────────────┼───────────────────┼────────────┼───────────────────┤\n",
              "│ sequential_11       │ (<span style=\"color: #00d7ff; text-decoration-color: #00d7ff\">None</span>, <span style=\"color: #00af00; text-decoration-color: #00af00\">32</span>)        │     <span style=\"color: #00af00; text-decoration-color: #00af00\">41,376</span> │ input_layer_12[<span style=\"color: #00af00; text-decoration-color: #00af00\">0</span>… │\n",
              "│ (<span style=\"color: #0087ff; text-decoration-color: #0087ff\">Sequential</span>)        │                   │            │                   │\n",
              "├─────────────────────┼───────────────────┼────────────┼───────────────────┤\n",
              "│ lambda_8 (<span style=\"color: #0087ff; text-decoration-color: #0087ff\">Lambda</span>)   │ (<span style=\"color: #00d7ff; text-decoration-color: #00d7ff\">None</span>, <span style=\"color: #00af00; text-decoration-color: #00af00\">32</span>)        │          <span style=\"color: #00af00; text-decoration-color: #00af00\">0</span> │ sequential_10[<span style=\"color: #00af00; text-decoration-color: #00af00\">0</span>]… │\n",
              "├─────────────────────┼───────────────────┼────────────┼───────────────────┤\n",
              "│ lambda_9 (<span style=\"color: #0087ff; text-decoration-color: #0087ff\">Lambda</span>)   │ (<span style=\"color: #00d7ff; text-decoration-color: #00d7ff\">None</span>, <span style=\"color: #00af00; text-decoration-color: #00af00\">32</span>)        │          <span style=\"color: #00af00; text-decoration-color: #00af00\">0</span> │ sequential_11[<span style=\"color: #00af00; text-decoration-color: #00af00\">0</span>]… │\n",
              "├─────────────────────┼───────────────────┼────────────┼───────────────────┤\n",
              "│ dot_1 (<span style=\"color: #0087ff; text-decoration-color: #0087ff\">Dot</span>)         │ (<span style=\"color: #00d7ff; text-decoration-color: #00d7ff\">None</span>, <span style=\"color: #00af00; text-decoration-color: #00af00\">1</span>)         │          <span style=\"color: #00af00; text-decoration-color: #00af00\">0</span> │ lambda_8[<span style=\"color: #00af00; text-decoration-color: #00af00\">0</span>][<span style=\"color: #00af00; text-decoration-color: #00af00\">0</span>],   │\n",
              "│                     │                   │            │ lambda_9[<span style=\"color: #00af00; text-decoration-color: #00af00\">0</span>][<span style=\"color: #00af00; text-decoration-color: #00af00\">0</span>]    │\n",
              "└─────────────────────┴───────────────────┴────────────┴───────────────────┘\n",
              "</pre>\n"
            ]
          },
          "metadata": {}
        },
        {
          "output_type": "display_data",
          "data": {
            "text/plain": [
              "\u001b[1m Total params: \u001b[0m\u001b[38;5;34m82,240\u001b[0m (321.25 KB)\n"
            ],
            "text/html": [
              "<pre style=\"white-space:pre;overflow-x:auto;line-height:normal;font-family:Menlo,'DejaVu Sans Mono',consolas,'Courier New',monospace\"><span style=\"font-weight: bold\"> Total params: </span><span style=\"color: #00af00; text-decoration-color: #00af00\">82,240</span> (321.25 KB)\n",
              "</pre>\n"
            ]
          },
          "metadata": {}
        },
        {
          "output_type": "display_data",
          "data": {
            "text/plain": [
              "\u001b[1m Trainable params: \u001b[0m\u001b[38;5;34m82,240\u001b[0m (321.25 KB)\n"
            ],
            "text/html": [
              "<pre style=\"white-space:pre;overflow-x:auto;line-height:normal;font-family:Menlo,'DejaVu Sans Mono',consolas,'Courier New',monospace\"><span style=\"font-weight: bold\"> Trainable params: </span><span style=\"color: #00af00; text-decoration-color: #00af00\">82,240</span> (321.25 KB)\n",
              "</pre>\n"
            ]
          },
          "metadata": {}
        },
        {
          "output_type": "display_data",
          "data": {
            "text/plain": [
              "\u001b[1m Non-trainable params: \u001b[0m\u001b[38;5;34m0\u001b[0m (0.00 B)\n"
            ],
            "text/html": [
              "<pre style=\"white-space:pre;overflow-x:auto;line-height:normal;font-family:Menlo,'DejaVu Sans Mono',consolas,'Courier New',monospace\"><span style=\"font-weight: bold\"> Non-trainable params: </span><span style=\"color: #00af00; text-decoration-color: #00af00\">0</span> (0.00 B)\n",
              "</pre>\n"
            ]
          },
          "metadata": {}
        }
      ]
    },
    {
      "cell_type": "code",
      "source": [
        "user_NN.summary()\n",
        "item_NN.summary()\n"
      ],
      "metadata": {
        "colab": {
          "base_uri": "https://localhost:8080/",
          "height": 497
        },
        "id": "jcyZYiGC4klo",
        "outputId": "050a02d3-e79a-4fcc-9c02-cbe3afa2d8c6"
      },
      "execution_count": 20,
      "outputs": [
        {
          "output_type": "display_data",
          "data": {
            "text/plain": [
              "\u001b[1mModel: \"sequential_8\"\u001b[0m\n"
            ],
            "text/html": [
              "<pre style=\"white-space:pre;overflow-x:auto;line-height:normal;font-family:Menlo,'DejaVu Sans Mono',consolas,'Courier New',monospace\"><span style=\"font-weight: bold\">Model: \"sequential_8\"</span>\n",
              "</pre>\n"
            ]
          },
          "metadata": {}
        },
        {
          "output_type": "display_data",
          "data": {
            "text/plain": [
              "┏━━━━━━━━━━━━━━━━━━━━━━━━━━━━━━━━━┳━━━━━━━━━━━━━━━━━━━━━━━━┳━━━━━━━━━━━━━━━┓\n",
              "┃\u001b[1m \u001b[0m\u001b[1mLayer (type)                   \u001b[0m\u001b[1m \u001b[0m┃\u001b[1m \u001b[0m\u001b[1mOutput Shape          \u001b[0m\u001b[1m \u001b[0m┃\u001b[1m \u001b[0m\u001b[1m      Param #\u001b[0m\u001b[1m \u001b[0m┃\n",
              "┡━━━━━━━━━━━━━━━━━━━━━━━━━━━━━━━━━╇━━━━━━━━━━━━━━━━━━━━━━━━╇━━━━━━━━━━━━━━━┩\n",
              "│ dense_24 (\u001b[38;5;33mDense\u001b[0m)                │ (\u001b[38;5;45mNone\u001b[0m, \u001b[38;5;34m256\u001b[0m)            │         \u001b[38;5;34m3,840\u001b[0m │\n",
              "├─────────────────────────────────┼────────────────────────┼───────────────┤\n",
              "│ dense_25 (\u001b[38;5;33mDense\u001b[0m)                │ (\u001b[38;5;45mNone\u001b[0m, \u001b[38;5;34m128\u001b[0m)            │        \u001b[38;5;34m32,896\u001b[0m │\n",
              "├─────────────────────────────────┼────────────────────────┼───────────────┤\n",
              "│ dense_26 (\u001b[38;5;33mDense\u001b[0m)                │ (\u001b[38;5;45mNone\u001b[0m, \u001b[38;5;34m32\u001b[0m)             │         \u001b[38;5;34m4,128\u001b[0m │\n",
              "├─────────────────────────────────┼────────────────────────┼───────────────┤\n",
              "│ lambda_2 (\u001b[38;5;33mLambda\u001b[0m)               │ (\u001b[38;5;45mNone\u001b[0m, \u001b[38;5;34m32\u001b[0m)             │             \u001b[38;5;34m0\u001b[0m │\n",
              "└─────────────────────────────────┴────────────────────────┴───────────────┘\n"
            ],
            "text/html": [
              "<pre style=\"white-space:pre;overflow-x:auto;line-height:normal;font-family:Menlo,'DejaVu Sans Mono',consolas,'Courier New',monospace\">┏━━━━━━━━━━━━━━━━━━━━━━━━━━━━━━━━━┳━━━━━━━━━━━━━━━━━━━━━━━━┳━━━━━━━━━━━━━━━┓\n",
              "┃<span style=\"font-weight: bold\"> Layer (type)                    </span>┃<span style=\"font-weight: bold\"> Output Shape           </span>┃<span style=\"font-weight: bold\">       Param # </span>┃\n",
              "┡━━━━━━━━━━━━━━━━━━━━━━━━━━━━━━━━━╇━━━━━━━━━━━━━━━━━━━━━━━━╇━━━━━━━━━━━━━━━┩\n",
              "│ dense_24 (<span style=\"color: #0087ff; text-decoration-color: #0087ff\">Dense</span>)                │ (<span style=\"color: #00d7ff; text-decoration-color: #00d7ff\">None</span>, <span style=\"color: #00af00; text-decoration-color: #00af00\">256</span>)            │         <span style=\"color: #00af00; text-decoration-color: #00af00\">3,840</span> │\n",
              "├─────────────────────────────────┼────────────────────────┼───────────────┤\n",
              "│ dense_25 (<span style=\"color: #0087ff; text-decoration-color: #0087ff\">Dense</span>)                │ (<span style=\"color: #00d7ff; text-decoration-color: #00d7ff\">None</span>, <span style=\"color: #00af00; text-decoration-color: #00af00\">128</span>)            │        <span style=\"color: #00af00; text-decoration-color: #00af00\">32,896</span> │\n",
              "├─────────────────────────────────┼────────────────────────┼───────────────┤\n",
              "│ dense_26 (<span style=\"color: #0087ff; text-decoration-color: #0087ff\">Dense</span>)                │ (<span style=\"color: #00d7ff; text-decoration-color: #00d7ff\">None</span>, <span style=\"color: #00af00; text-decoration-color: #00af00\">32</span>)             │         <span style=\"color: #00af00; text-decoration-color: #00af00\">4,128</span> │\n",
              "├─────────────────────────────────┼────────────────────────┼───────────────┤\n",
              "│ lambda_2 (<span style=\"color: #0087ff; text-decoration-color: #0087ff\">Lambda</span>)               │ (<span style=\"color: #00d7ff; text-decoration-color: #00d7ff\">None</span>, <span style=\"color: #00af00; text-decoration-color: #00af00\">32</span>)             │             <span style=\"color: #00af00; text-decoration-color: #00af00\">0</span> │\n",
              "└─────────────────────────────────┴────────────────────────┴───────────────┘\n",
              "</pre>\n"
            ]
          },
          "metadata": {}
        },
        {
          "output_type": "display_data",
          "data": {
            "text/plain": [
              "\u001b[1m Total params: \u001b[0m\u001b[38;5;34m40,864\u001b[0m (159.62 KB)\n"
            ],
            "text/html": [
              "<pre style=\"white-space:pre;overflow-x:auto;line-height:normal;font-family:Menlo,'DejaVu Sans Mono',consolas,'Courier New',monospace\"><span style=\"font-weight: bold\"> Total params: </span><span style=\"color: #00af00; text-decoration-color: #00af00\">40,864</span> (159.62 KB)\n",
              "</pre>\n"
            ]
          },
          "metadata": {}
        },
        {
          "output_type": "display_data",
          "data": {
            "text/plain": [
              "\u001b[1m Trainable params: \u001b[0m\u001b[38;5;34m40,864\u001b[0m (159.62 KB)\n"
            ],
            "text/html": [
              "<pre style=\"white-space:pre;overflow-x:auto;line-height:normal;font-family:Menlo,'DejaVu Sans Mono',consolas,'Courier New',monospace\"><span style=\"font-weight: bold\"> Trainable params: </span><span style=\"color: #00af00; text-decoration-color: #00af00\">40,864</span> (159.62 KB)\n",
              "</pre>\n"
            ]
          },
          "metadata": {}
        },
        {
          "output_type": "display_data",
          "data": {
            "text/plain": [
              "\u001b[1m Non-trainable params: \u001b[0m\u001b[38;5;34m0\u001b[0m (0.00 B)\n"
            ],
            "text/html": [
              "<pre style=\"white-space:pre;overflow-x:auto;line-height:normal;font-family:Menlo,'DejaVu Sans Mono',consolas,'Courier New',monospace\"><span style=\"font-weight: bold\"> Non-trainable params: </span><span style=\"color: #00af00; text-decoration-color: #00af00\">0</span> (0.00 B)\n",
              "</pre>\n"
            ]
          },
          "metadata": {}
        },
        {
          "output_type": "display_data",
          "data": {
            "text/plain": [
              "\u001b[1mModel: \"sequential_9\"\u001b[0m\n"
            ],
            "text/html": [
              "<pre style=\"white-space:pre;overflow-x:auto;line-height:normal;font-family:Menlo,'DejaVu Sans Mono',consolas,'Courier New',monospace\"><span style=\"font-weight: bold\">Model: \"sequential_9\"</span>\n",
              "</pre>\n"
            ]
          },
          "metadata": {}
        },
        {
          "output_type": "display_data",
          "data": {
            "text/plain": [
              "┏━━━━━━━━━━━━━━━━━━━━━━━━━━━━━━━━━┳━━━━━━━━━━━━━━━━━━━━━━━━┳━━━━━━━━━━━━━━━┓\n",
              "┃\u001b[1m \u001b[0m\u001b[1mLayer (type)                   \u001b[0m\u001b[1m \u001b[0m┃\u001b[1m \u001b[0m\u001b[1mOutput Shape          \u001b[0m\u001b[1m \u001b[0m┃\u001b[1m \u001b[0m\u001b[1m      Param #\u001b[0m\u001b[1m \u001b[0m┃\n",
              "┡━━━━━━━━━━━━━━━━━━━━━━━━━━━━━━━━━╇━━━━━━━━━━━━━━━━━━━━━━━━╇━━━━━━━━━━━━━━━┩\n",
              "│ dense_27 (\u001b[38;5;33mDense\u001b[0m)                │ (\u001b[38;5;45mNone\u001b[0m, \u001b[38;5;34m256\u001b[0m)            │         \u001b[38;5;34m4,352\u001b[0m │\n",
              "├─────────────────────────────────┼────────────────────────┼───────────────┤\n",
              "│ dense_28 (\u001b[38;5;33mDense\u001b[0m)                │ (\u001b[38;5;45mNone\u001b[0m, \u001b[38;5;34m128\u001b[0m)            │        \u001b[38;5;34m32,896\u001b[0m │\n",
              "├─────────────────────────────────┼────────────────────────┼───────────────┤\n",
              "│ dense_29 (\u001b[38;5;33mDense\u001b[0m)                │ (\u001b[38;5;45mNone\u001b[0m, \u001b[38;5;34m32\u001b[0m)             │         \u001b[38;5;34m4,128\u001b[0m │\n",
              "├─────────────────────────────────┼────────────────────────┼───────────────┤\n",
              "│ lambda_3 (\u001b[38;5;33mLambda\u001b[0m)               │ (\u001b[38;5;45mNone\u001b[0m, \u001b[38;5;34m32\u001b[0m)             │             \u001b[38;5;34m0\u001b[0m │\n",
              "└─────────────────────────────────┴────────────────────────┴───────────────┘\n"
            ],
            "text/html": [
              "<pre style=\"white-space:pre;overflow-x:auto;line-height:normal;font-family:Menlo,'DejaVu Sans Mono',consolas,'Courier New',monospace\">┏━━━━━━━━━━━━━━━━━━━━━━━━━━━━━━━━━┳━━━━━━━━━━━━━━━━━━━━━━━━┳━━━━━━━━━━━━━━━┓\n",
              "┃<span style=\"font-weight: bold\"> Layer (type)                    </span>┃<span style=\"font-weight: bold\"> Output Shape           </span>┃<span style=\"font-weight: bold\">       Param # </span>┃\n",
              "┡━━━━━━━━━━━━━━━━━━━━━━━━━━━━━━━━━╇━━━━━━━━━━━━━━━━━━━━━━━━╇━━━━━━━━━━━━━━━┩\n",
              "│ dense_27 (<span style=\"color: #0087ff; text-decoration-color: #0087ff\">Dense</span>)                │ (<span style=\"color: #00d7ff; text-decoration-color: #00d7ff\">None</span>, <span style=\"color: #00af00; text-decoration-color: #00af00\">256</span>)            │         <span style=\"color: #00af00; text-decoration-color: #00af00\">4,352</span> │\n",
              "├─────────────────────────────────┼────────────────────────┼───────────────┤\n",
              "│ dense_28 (<span style=\"color: #0087ff; text-decoration-color: #0087ff\">Dense</span>)                │ (<span style=\"color: #00d7ff; text-decoration-color: #00d7ff\">None</span>, <span style=\"color: #00af00; text-decoration-color: #00af00\">128</span>)            │        <span style=\"color: #00af00; text-decoration-color: #00af00\">32,896</span> │\n",
              "├─────────────────────────────────┼────────────────────────┼───────────────┤\n",
              "│ dense_29 (<span style=\"color: #0087ff; text-decoration-color: #0087ff\">Dense</span>)                │ (<span style=\"color: #00d7ff; text-decoration-color: #00d7ff\">None</span>, <span style=\"color: #00af00; text-decoration-color: #00af00\">32</span>)             │         <span style=\"color: #00af00; text-decoration-color: #00af00\">4,128</span> │\n",
              "├─────────────────────────────────┼────────────────────────┼───────────────┤\n",
              "│ lambda_3 (<span style=\"color: #0087ff; text-decoration-color: #0087ff\">Lambda</span>)               │ (<span style=\"color: #00d7ff; text-decoration-color: #00d7ff\">None</span>, <span style=\"color: #00af00; text-decoration-color: #00af00\">32</span>)             │             <span style=\"color: #00af00; text-decoration-color: #00af00\">0</span> │\n",
              "└─────────────────────────────────┴────────────────────────┴───────────────┘\n",
              "</pre>\n"
            ]
          },
          "metadata": {}
        },
        {
          "output_type": "display_data",
          "data": {
            "text/plain": [
              "\u001b[1m Total params: \u001b[0m\u001b[38;5;34m41,376\u001b[0m (161.62 KB)\n"
            ],
            "text/html": [
              "<pre style=\"white-space:pre;overflow-x:auto;line-height:normal;font-family:Menlo,'DejaVu Sans Mono',consolas,'Courier New',monospace\"><span style=\"font-weight: bold\"> Total params: </span><span style=\"color: #00af00; text-decoration-color: #00af00\">41,376</span> (161.62 KB)\n",
              "</pre>\n"
            ]
          },
          "metadata": {}
        },
        {
          "output_type": "display_data",
          "data": {
            "text/plain": [
              "\u001b[1m Trainable params: \u001b[0m\u001b[38;5;34m41,376\u001b[0m (161.62 KB)\n"
            ],
            "text/html": [
              "<pre style=\"white-space:pre;overflow-x:auto;line-height:normal;font-family:Menlo,'DejaVu Sans Mono',consolas,'Courier New',monospace\"><span style=\"font-weight: bold\"> Trainable params: </span><span style=\"color: #00af00; text-decoration-color: #00af00\">41,376</span> (161.62 KB)\n",
              "</pre>\n"
            ]
          },
          "metadata": {}
        },
        {
          "output_type": "display_data",
          "data": {
            "text/plain": [
              "\u001b[1m Non-trainable params: \u001b[0m\u001b[38;5;34m0\u001b[0m (0.00 B)\n"
            ],
            "text/html": [
              "<pre style=\"white-space:pre;overflow-x:auto;line-height:normal;font-family:Menlo,'DejaVu Sans Mono',consolas,'Courier New',monospace\"><span style=\"font-weight: bold\"> Non-trainable params: </span><span style=\"color: #00af00; text-decoration-color: #00af00\">0</span> (0.00 B)\n",
              "</pre>\n"
            ]
          },
          "metadata": {}
        }
      ]
    },
    {
      "cell_type": "code",
      "source": [
        "print(input_user.shape)"
      ],
      "metadata": {
        "colab": {
          "base_uri": "https://localhost:8080/"
        },
        "id": "Qfj_e4Xb62EZ",
        "outputId": "b265c61f-bf07-4272-9679-29701807ab26"
      },
      "execution_count": 21,
      "outputs": [
        {
          "output_type": "stream",
          "name": "stdout",
          "text": [
            "(None, 14)\n"
          ]
        }
      ]
    },
    {
      "cell_type": "code",
      "source": [
        "tf.random.set_seed(1)\n",
        "cost_fn = tf.keras.losses.MeanSquaredError()\n",
        "opt = keras.optimizers.Adam(learning_rate=0.01)\n",
        "model.compile(optimizer=opt,\n",
        "              loss=cost_fn)"
      ],
      "metadata": {
        "id": "tyGFbW-665ke"
      },
      "execution_count": 22,
      "outputs": []
    },
    {
      "cell_type": "code",
      "source": [
        "print(user_train[:, u_s:].shape)\n",
        "print(item_train[:, i_s:].shape)"
      ],
      "metadata": {
        "colab": {
          "base_uri": "https://localhost:8080/"
        },
        "id": "VT5OMnOV67XG",
        "outputId": "126308ab-7af2-4cc2-f5f6-21081e024c8c"
      },
      "execution_count": 23,
      "outputs": [
        {
          "output_type": "stream",
          "name": "stdout",
          "text": [
            "(40707, 14)\n",
            "(40707, 16)\n"
          ]
        }
      ]
    },
    {
      "cell_type": "code",
      "source": [
        "tf.random.set_seed(1)\n",
        "model.fit([user_train[:, u_s:], item_train[:, i_s:]], y_train, epochs=30)"
      ],
      "metadata": {
        "colab": {
          "base_uri": "https://localhost:8080/"
        },
        "id": "ffwJXLD269FK",
        "outputId": "eb088e42-8271-4991-c13c-25317ec57ca8"
      },
      "execution_count": 24,
      "outputs": [
        {
          "output_type": "stream",
          "name": "stdout",
          "text": [
            "Epoch 1/30\n",
            "\u001b[1m1273/1273\u001b[0m \u001b[32m━━━━━━━━━━━━━━━━━━━━\u001b[0m\u001b[37m\u001b[0m \u001b[1m11s\u001b[0m 4ms/step - loss: 0.1306\n",
            "Epoch 2/30\n",
            "\u001b[1m1273/1273\u001b[0m \u001b[32m━━━━━━━━━━━━━━━━━━━━\u001b[0m\u001b[37m\u001b[0m \u001b[1m9s\u001b[0m 3ms/step - loss: 0.1125\n",
            "Epoch 3/30\n",
            "\u001b[1m1273/1273\u001b[0m \u001b[32m━━━━━━━━━━━━━━━━━━━━\u001b[0m\u001b[37m\u001b[0m \u001b[1m6s\u001b[0m 4ms/step - loss: 0.1075\n",
            "Epoch 4/30\n",
            "\u001b[1m1273/1273\u001b[0m \u001b[32m━━━━━━━━━━━━━━━━━━━━\u001b[0m\u001b[37m\u001b[0m \u001b[1m4s\u001b[0m 3ms/step - loss: 0.1042\n",
            "Epoch 5/30\n",
            "\u001b[1m1273/1273\u001b[0m \u001b[32m━━━━━━━━━━━━━━━━━━━━\u001b[0m\u001b[37m\u001b[0m \u001b[1m5s\u001b[0m 3ms/step - loss: 0.1011\n",
            "Epoch 6/30\n",
            "\u001b[1m1273/1273\u001b[0m \u001b[32m━━━━━━━━━━━━━━━━━━━━\u001b[0m\u001b[37m\u001b[0m \u001b[1m5s\u001b[0m 4ms/step - loss: 0.0979\n",
            "Epoch 7/30\n",
            "\u001b[1m1273/1273\u001b[0m \u001b[32m━━━━━━━━━━━━━━━━━━━━\u001b[0m\u001b[37m\u001b[0m \u001b[1m4s\u001b[0m 3ms/step - loss: 0.0954\n",
            "Epoch 8/30\n",
            "\u001b[1m1273/1273\u001b[0m \u001b[32m━━━━━━━━━━━━━━━━━━━━\u001b[0m\u001b[37m\u001b[0m \u001b[1m4s\u001b[0m 3ms/step - loss: 0.0935\n",
            "Epoch 9/30\n",
            "\u001b[1m1273/1273\u001b[0m \u001b[32m━━━━━━━━━━━━━━━━━━━━\u001b[0m\u001b[37m\u001b[0m \u001b[1m6s\u001b[0m 4ms/step - loss: 0.0919\n",
            "Epoch 10/30\n",
            "\u001b[1m1273/1273\u001b[0m \u001b[32m━━━━━━━━━━━━━━━━━━━━\u001b[0m\u001b[37m\u001b[0m \u001b[1m11s\u001b[0m 4ms/step - loss: 0.0902\n",
            "Epoch 11/30\n",
            "\u001b[1m1273/1273\u001b[0m \u001b[32m━━━━━━━━━━━━━━━━━━━━\u001b[0m\u001b[37m\u001b[0m \u001b[1m9s\u001b[0m 3ms/step - loss: 0.0886\n",
            "Epoch 12/30\n",
            "\u001b[1m1273/1273\u001b[0m \u001b[32m━━━━━━━━━━━━━━━━━━━━\u001b[0m\u001b[37m\u001b[0m \u001b[1m6s\u001b[0m 4ms/step - loss: 0.0871\n",
            "Epoch 13/30\n",
            "\u001b[1m1273/1273\u001b[0m \u001b[32m━━━━━━━━━━━━━━━━━━━━\u001b[0m\u001b[37m\u001b[0m \u001b[1m4s\u001b[0m 3ms/step - loss: 0.0858\n",
            "Epoch 14/30\n",
            "\u001b[1m1273/1273\u001b[0m \u001b[32m━━━━━━━━━━━━━━━━━━━━\u001b[0m\u001b[37m\u001b[0m \u001b[1m5s\u001b[0m 4ms/step - loss: 0.0846\n",
            "Epoch 15/30\n",
            "\u001b[1m1273/1273\u001b[0m \u001b[32m━━━━━━━━━━━━━━━━━━━━\u001b[0m\u001b[37m\u001b[0m \u001b[1m9s\u001b[0m 3ms/step - loss: 0.0833\n",
            "Epoch 16/30\n",
            "\u001b[1m1273/1273\u001b[0m \u001b[32m━━━━━━━━━━━━━━━━━━━━\u001b[0m\u001b[37m\u001b[0m \u001b[1m5s\u001b[0m 4ms/step - loss: 0.0822\n",
            "Epoch 17/30\n",
            "\u001b[1m1273/1273\u001b[0m \u001b[32m━━━━━━━━━━━━━━━━━━━━\u001b[0m\u001b[37m\u001b[0m \u001b[1m4s\u001b[0m 3ms/step - loss: 0.0810\n",
            "Epoch 18/30\n",
            "\u001b[1m1273/1273\u001b[0m \u001b[32m━━━━━━━━━━━━━━━━━━━━\u001b[0m\u001b[37m\u001b[0m \u001b[1m7s\u001b[0m 4ms/step - loss: 0.0800\n",
            "Epoch 19/30\n",
            "\u001b[1m1273/1273\u001b[0m \u001b[32m━━━━━━━━━━━━━━━━━━━━\u001b[0m\u001b[37m\u001b[0m \u001b[1m9s\u001b[0m 3ms/step - loss: 0.0791\n",
            "Epoch 20/30\n",
            "\u001b[1m1273/1273\u001b[0m \u001b[32m━━━━━━━━━━━━━━━━━━━━\u001b[0m\u001b[37m\u001b[0m \u001b[1m5s\u001b[0m 4ms/step - loss: 0.0781\n",
            "Epoch 21/30\n",
            "\u001b[1m1273/1273\u001b[0m \u001b[32m━━━━━━━━━━━━━━━━━━━━\u001b[0m\u001b[37m\u001b[0m \u001b[1m4s\u001b[0m 3ms/step - loss: 0.0773\n",
            "Epoch 22/30\n",
            "\u001b[1m1273/1273\u001b[0m \u001b[32m━━━━━━━━━━━━━━━━━━━━\u001b[0m\u001b[37m\u001b[0m \u001b[1m4s\u001b[0m 3ms/step - loss: 0.0764\n",
            "Epoch 23/30\n",
            "\u001b[1m1273/1273\u001b[0m \u001b[32m━━━━━━━━━━━━━━━━━━━━\u001b[0m\u001b[37m\u001b[0m \u001b[1m6s\u001b[0m 4ms/step - loss: 0.0757\n",
            "Epoch 24/30\n",
            "\u001b[1m1273/1273\u001b[0m \u001b[32m━━━━━━━━━━━━━━━━━━━━\u001b[0m\u001b[37m\u001b[0m \u001b[1m4s\u001b[0m 3ms/step - loss: 0.0751\n",
            "Epoch 25/30\n",
            "\u001b[1m1273/1273\u001b[0m \u001b[32m━━━━━━━━━━━━━━━━━━━━\u001b[0m\u001b[37m\u001b[0m \u001b[1m5s\u001b[0m 4ms/step - loss: 0.0743\n",
            "Epoch 26/30\n",
            "\u001b[1m1273/1273\u001b[0m \u001b[32m━━━━━━━━━━━━━━━━━━━━\u001b[0m\u001b[37m\u001b[0m \u001b[1m5s\u001b[0m 4ms/step - loss: 0.0737\n",
            "Epoch 27/30\n",
            "\u001b[1m1273/1273\u001b[0m \u001b[32m━━━━━━━━━━━━━━━━━━━━\u001b[0m\u001b[37m\u001b[0m \u001b[1m5s\u001b[0m 3ms/step - loss: 0.0731\n",
            "Epoch 28/30\n",
            "\u001b[1m1273/1273\u001b[0m \u001b[32m━━━━━━━━━━━━━━━━━━━━\u001b[0m\u001b[37m\u001b[0m \u001b[1m5s\u001b[0m 4ms/step - loss: 0.0726\n",
            "Epoch 29/30\n",
            "\u001b[1m1273/1273\u001b[0m \u001b[32m━━━━━━━━━━━━━━━━━━━━\u001b[0m\u001b[37m\u001b[0m \u001b[1m10s\u001b[0m 4ms/step - loss: 0.0719\n",
            "Epoch 30/30\n",
            "\u001b[1m1273/1273\u001b[0m \u001b[32m━━━━━━━━━━━━━━━━━━━━\u001b[0m\u001b[37m\u001b[0m \u001b[1m5s\u001b[0m 4ms/step - loss: 0.0713\n"
          ]
        },
        {
          "output_type": "execute_result",
          "data": {
            "text/plain": [
              "<keras.src.callbacks.history.History at 0x790fccb52750>"
            ]
          },
          "metadata": {},
          "execution_count": 24
        }
      ]
    },
    {
      "cell_type": "code",
      "source": [
        "model.evaluate([user_test[:, u_s:], item_test[:, i_s:]], y_test)"
      ],
      "metadata": {
        "colab": {
          "base_uri": "https://localhost:8080/"
        },
        "id": "Y1n5RhF_6_qW",
        "outputId": "a8073d03-1243-47a5-affc-91c4b13c4628"
      },
      "execution_count": 25,
      "outputs": [
        {
          "output_type": "stream",
          "name": "stdout",
          "text": [
            "\u001b[1m319/319\u001b[0m \u001b[32m━━━━━━━━━━━━━━━━━━━━\u001b[0m\u001b[37m\u001b[0m \u001b[1m2s\u001b[0m 5ms/step - loss: 0.0898\n"
          ]
        },
        {
          "output_type": "execute_result",
          "data": {
            "text/plain": [
              "0.08603718876838684"
            ]
          },
          "metadata": {},
          "execution_count": 25
        }
      ]
    },
    {
      "cell_type": "markdown",
      "source": [
        "<a name=\"5\"></a>\n",
        "## 5 - Predictions\n",
        "<a name=\"5.1\"></a>\n",
        "### 5.1 - Predictions for a new user\n",
        "First, we'll create a new user and have the model suggest movies for that user."
      ],
      "metadata": {
        "id": "Yfovyli5ASkr"
      }
    },
    {
      "cell_type": "code",
      "source": [
        "new_user_id = 5000\n",
        "new_rating_ave = 0.0\n",
        "new_action = 0.0\n",
        "new_adventure = 5.0\n",
        "new_animation = 0.0\n",
        "new_childrens = 0.0\n",
        "new_comedy = 0.0\n",
        "new_crime = 0.0\n",
        "new_documentary = 0.0\n",
        "new_drama = 0.0\n",
        "new_fantasy = 5.0\n",
        "new_horror = 0.0\n",
        "new_mystery = 0.0\n",
        "new_romance = 0.0\n",
        "new_scifi = 0.0\n",
        "new_thriller = 0.0\n",
        "new_rating_count = 3\n",
        "\n",
        "user_vec = np.array([[new_user_id, new_rating_count, new_rating_ave,\n",
        "                      new_action, new_adventure, new_animation, new_childrens,\n",
        "                      new_comedy, new_crime, new_documentary,\n",
        "                      new_drama, new_fantasy, new_horror, new_mystery,\n",
        "                      new_romance, new_scifi, new_thriller]])\n",
        "\n",
        "\n"
      ],
      "metadata": {
        "id": "V-U3Cc4PAPsi"
      },
      "execution_count": 43,
      "outputs": []
    },
    {
      "cell_type": "code",
      "source": [
        "def print_pred_movies(y_p, item, movie_dict, maxcount=10):\n",
        "    \"\"\" print results of prediction of a new user. inputs are expected to be in\n",
        "        sorted order, unscaled. \"\"\"\n",
        "    count = 0\n",
        "    disp = [[\"y_p\", \"movie id\", \"rating ave\", \"title\", \"genres\"]]\n",
        "\n",
        "    for i in range(0, y_p.shape[0]):\n",
        "        if count == maxcount:\n",
        "            break\n",
        "        count += 1\n",
        "        movie_id = item[i, 0].astype(int)\n",
        "        disp.append([np.around(y_p[i, 0], 1), item[i, 0].astype(int), np.around(item[i, 2].astype(float), 1),\n",
        "                     movie_dict[movie_id]['title'], movie_dict[movie_id]['genres']])\n",
        "\n",
        "    table = tabulate.tabulate(disp, tablefmt='html', headers=\"firstrow\")\n",
        "    return table\n",
        "\n",
        "def gen_user_vecs(user_vec, num_items):\n",
        "    \"\"\" given a user vector return:\n",
        "        user predict maxtrix to match the size of item_vecs \"\"\"\n",
        "    user_vecs = np.tile(user_vec, (num_items, 1))\n",
        "    return user_vecs"
      ],
      "metadata": {
        "id": "0x93VefVAU0Z"
      },
      "execution_count": 47,
      "outputs": []
    },
    {
      "cell_type": "markdown",
      "source": [
        "The new user enjoys movies from the adventure, fantasy genres. Let's find the top-rated movies for the new user.  \n",
        "Below, we'll use a set of movie/item vectors, `item_vecs` that have a vector for each movie in the training/test set. This is matched with the new user vector above and the scaled vectors are used to predict ratings for all the movies."
      ],
      "metadata": {
        "id": "AouCNKPmAYhi"
      }
    },
    {
      "cell_type": "code",
      "source": [
        "# generate and replicate the user vector to match the number movies in the data set.\n",
        "user_vecs = gen_user_vecs(user_vec,len(item_vecs))\n",
        "\n",
        "# scale our user and item vectors\n",
        "suser_vecs = scalerUser.transform(user_vecs)\n",
        "sitem_vecs = scalerItem.transform(item_vecs)\n",
        "\n",
        "# make a prediction\n",
        "y_p = model.predict([suser_vecs[:, u_s:], sitem_vecs[:, i_s:]])\n",
        "\n",
        "# unscale y prediction\n",
        "y_pu = scalerTarget.inverse_transform(y_p)\n",
        "\n",
        "# sort the results, highest prediction first\n",
        "sorted_index = np.argsort(-y_pu,axis=0).reshape(-1).tolist()  #negate to get largest rating first\n",
        "sorted_ypu   = y_pu[sorted_index]\n",
        "sorted_items = item_vecs[sorted_index]  #using unscaled vectors for display\n",
        "\n",
        "html_code4 = print_pred_movies(sorted_ypu, sorted_items, movie_dict, maxcount = 10)\n",
        "display(HTML(html_code4))"
      ],
      "metadata": {
        "colab": {
          "base_uri": "https://localhost:8080/",
          "height": 266
        },
        "id": "e2KpkiR9AWrV",
        "outputId": "75bd2cf3-8d63-43a9-fcb2-aebb5d4ea636"
      },
      "execution_count": 49,
      "outputs": [
        {
          "output_type": "stream",
          "name": "stdout",
          "text": [
            "\u001b[1m27/27\u001b[0m \u001b[32m━━━━━━━━━━━━━━━━━━━━\u001b[0m\u001b[37m\u001b[0m \u001b[1m0s\u001b[0m 4ms/step\n"
          ]
        },
        {
          "output_type": "display_data",
          "data": {
            "text/plain": [
              "<IPython.core.display.HTML object>"
            ],
            "text/html": [
              "<table>\n",
              "<thead>\n",
              "<tr><th style=\"text-align: right;\">  y_p</th><th style=\"text-align: right;\">  movie id</th><th style=\"text-align: right;\">  rating ave</th><th>title                   </th><th>genres              </th></tr>\n",
              "</thead>\n",
              "<tbody>\n",
              "<tr><td style=\"text-align: right;\">  3.2</td><td style=\"text-align: right;\">    111759</td><td style=\"text-align: right;\">         4  </td><td>Edge of Tomorrow (2014) </td><td>Action|Sci-Fi       </td></tr>\n",
              "<tr><td style=\"text-align: right;\">  3.2</td><td style=\"text-align: right;\">    168252</td><td style=\"text-align: right;\">         4.3</td><td>Logan (2017)            </td><td>Action|Sci-Fi       </td></tr>\n",
              "<tr><td style=\"text-align: right;\">  3.2</td><td style=\"text-align: right;\">     96737</td><td style=\"text-align: right;\">         3.7</td><td>Dredd (2012)            </td><td>Action|Sci-Fi       </td></tr>\n",
              "<tr><td style=\"text-align: right;\">  3.2</td><td style=\"text-align: right;\">    164179</td><td style=\"text-align: right;\">         4  </td><td>Arrival (2016)          </td><td>Sci-Fi              </td></tr>\n",
              "<tr><td style=\"text-align: right;\">  3.2</td><td style=\"text-align: right;\">    176371</td><td style=\"text-align: right;\">         3.8</td><td>Blade Runner 2049 (2017)</td><td>Sci-Fi              </td></tr>\n",
              "<tr><td style=\"text-align: right;\">  3.2</td><td style=\"text-align: right;\">    104841</td><td style=\"text-align: right;\">         3.6</td><td>Gravity (2013)          </td><td>Action|Sci-Fi       </td></tr>\n",
              "<tr><td style=\"text-align: right;\">  3.1</td><td style=\"text-align: right;\">    109487</td><td style=\"text-align: right;\">         4  </td><td>Interstellar (2014)     </td><td>Sci-Fi              </td></tr>\n",
              "<tr><td style=\"text-align: right;\">  3.1</td><td style=\"text-align: right;\">     56145</td><td style=\"text-align: right;\">         3.4</td><td>Mist, The (2007)        </td><td>Horror|Sci-Fi       </td></tr>\n",
              "<tr><td style=\"text-align: right;\">  3.1</td><td style=\"text-align: right;\">     54995</td><td style=\"text-align: right;\">         3.8</td><td>Planet Terror (2007)    </td><td>Action|Horror|Sci-Fi</td></tr>\n",
              "<tr><td style=\"text-align: right;\">  3.1</td><td style=\"text-align: right;\">     97752</td><td style=\"text-align: right;\">         3.7</td><td>Cloud Atlas (2012)      </td><td>Drama|Sci-Fi        </td></tr>\n",
              "</tbody>\n",
              "</table>"
            ]
          },
          "metadata": {}
        }
      ]
    },
    {
      "cell_type": "markdown",
      "source": [
        "<a name=\"5.2\"></a>\n",
        "### 5.2 - Predictions for an existing user.\n",
        "Let's look at the predictions for \"user 2\", one of the users in the data set. We can compare the predicted ratings with the model's ratings."
      ],
      "metadata": {
        "id": "G0OvuWdMApGY"
      }
    },
    {
      "cell_type": "code",
      "source": [
        "\n",
        "def get_user_vecs(user_id, user_train, item_vecs, user_to_genre):\n",
        "    \"\"\" given a user_id, return:\n",
        "        user train/predict matrix to match the size of item_vecs\n",
        "        y vector with ratings for all rated movies and 0 for others of size item_vecs \"\"\"\n",
        "\n",
        "    if not user_id in user_to_genre:\n",
        "        print(\"error: unknown user id\")\n",
        "        return None\n",
        "    else:\n",
        "        user_vec_found = False\n",
        "        for i in range(len(user_train)):\n",
        "            if user_train[i, 0] == user_id:\n",
        "                user_vec = user_train[i]\n",
        "                user_vec_found = True\n",
        "                break\n",
        "        if not user_vec_found:\n",
        "            print(\"error in get_user_vecs, did not find uid in user_train\")\n",
        "        num_items = len(item_vecs)\n",
        "        user_vecs = np.tile(user_vec, (num_items, 1))\n",
        "\n",
        "        y = np.zeros(num_items)\n",
        "        for i in range(num_items):  # walk through movies in item_vecs and get the movies, see if user has rated them\n",
        "            movie_id = item_vecs[i, 0]\n",
        "            if movie_id in user_to_genre[user_id]['movies']:\n",
        "                rating = user_to_genre[user_id]['movies'][movie_id]\n",
        "            else:\n",
        "                rating = 0\n",
        "            y[i] = rating\n",
        "    return(user_vecs, y)\n",
        "\n",
        "\n",
        "def print_existing_user(y_p, y, user, items, ivs, uvs, movie_dict, maxcount=10):\n",
        "    \"\"\" print results of prediction for a user who was in the database.\n",
        "        Inputs are expected to be in sorted order, unscaled.\n",
        "    \"\"\"\n",
        "    count = 0\n",
        "    disp = [[\"y_p\", \"y\", \"user\", \"user genre ave\", \"movie rating ave\", \"movie id\", \"title\", \"genres\"]]\n",
        "    count = 0\n",
        "    for i in range(0, y.shape[0]):\n",
        "        if y[i, 0] != 0:  # zero means not rated\n",
        "            if count == maxcount:\n",
        "                break\n",
        "            count += 1\n",
        "            movie_id = items[i, 0].astype(int)\n",
        "\n",
        "            offsets = np.nonzero(items[i, ivs:] == 1)[0]\n",
        "            genre_ratings = user[i, uvs + offsets]\n",
        "            disp.append([y_p[i, 0], y[i, 0],\n",
        "                         user[i, 0].astype(int),      # userid\n",
        "                         np.array2string(genre_ratings,\n",
        "                                         formatter={'float_kind':lambda x: \"%.1f\" % x},\n",
        "                                         separator=',', suppress_small=True),\n",
        "                         items[i, 2].astype(float),    # movie average rating\n",
        "                         movie_id,\n",
        "                         movie_dict[movie_id]['title'],\n",
        "                         movie_dict[movie_id]['genres']])\n",
        "\n",
        "    table = tabulate.tabulate(disp, tablefmt='html', headers=\"firstrow\", floatfmt=[\".1f\", \".1f\", \".0f\", \".2f\", \".1f\"])\n",
        "    return table\n",
        "\n"
      ],
      "metadata": {
        "id": "SstOI3z4AbHN"
      },
      "execution_count": 30,
      "outputs": []
    },
    {
      "cell_type": "code",
      "source": [
        "uid = 2\n",
        "# form a set of user vectors. This is the same vector, transformed and repeated.\n",
        "user_vecs, y_vecs = get_user_vecs(uid, user_train_unscaled, item_vecs, user_to_genre)\n",
        "\n",
        "# scale our user and item vectors\n",
        "suser_vecs = scalerUser.transform(user_vecs)\n",
        "sitem_vecs = scalerItem.transform(item_vecs)\n",
        "\n",
        "# make a prediction\n",
        "y_p = model.predict([suser_vecs[:, u_s:], sitem_vecs[:, i_s:]])\n",
        "\n",
        "# unscale y prediction\n",
        "y_pu = scalerTarget.inverse_transform(y_p)\n",
        "\n",
        "# sort the results, highest prediction first\n",
        "sorted_index = np.argsort(-y_pu,axis=0).reshape(-1).tolist()  #negate to get largest rating first\n",
        "sorted_ypu   = y_pu[sorted_index]\n",
        "sorted_items = item_vecs[sorted_index]  #using unscaled vectors for display\n",
        "sorted_user  = user_vecs[sorted_index]\n",
        "sorted_y     = y_vecs[sorted_index]\n",
        "\n",
        "#print sorted predictions for movies rated by the user\n",
        "html_code5 = print_existing_user(sorted_ypu, sorted_y.reshape(-1,1), sorted_user, sorted_items, ivs, uvs, movie_dict, maxcount = 50)\n",
        "display(HTML(html_code5))"
      ],
      "metadata": {
        "colab": {
          "base_uri": "https://localhost:8080/",
          "height": 518
        },
        "id": "FhK4I648Arw6",
        "outputId": "68b954e2-96ce-4658-dcb8-573d7ec3bb54"
      },
      "execution_count": 33,
      "outputs": [
        {
          "output_type": "stream",
          "name": "stdout",
          "text": [
            "\u001b[1m27/27\u001b[0m \u001b[32m━━━━━━━━━━━━━━━━━━━━\u001b[0m\u001b[37m\u001b[0m \u001b[1m0s\u001b[0m 7ms/step\n"
          ]
        },
        {
          "output_type": "display_data",
          "data": {
            "text/plain": [
              "<IPython.core.display.HTML object>"
            ],
            "text/html": [
              "<table>\n",
              "<thead>\n",
              "<tr><th style=\"text-align: right;\">  y_p</th><th style=\"text-align: right;\">  y</th><th style=\"text-align: right;\">  user</th><th>user genre ave           </th><th style=\"text-align: right;\">  movie rating ave</th><th style=\"text-align: right;\">  movie id</th><th>title                                             </th><th>genres                                    </th></tr>\n",
              "</thead>\n",
              "<tbody>\n",
              "<tr><td style=\"text-align: right;\">  4.6</td><td style=\"text-align: right;\">5.0</td><td style=\"text-align: right;\">     2</td><td>[4.0]                    </td><td style=\"text-align: right;\">               4.3</td><td style=\"text-align: right;\">     80906</td><td>Inside Job (2010)                                 </td><td>Documentary                               </td></tr>\n",
              "<tr><td style=\"text-align: right;\">  4.5</td><td style=\"text-align: right;\">4.0</td><td style=\"text-align: right;\">     2</td><td>[4.0,4.1,3.9]            </td><td style=\"text-align: right;\">               4.0</td><td style=\"text-align: right;\">      6874</td><td>Kill Bill: Vol. 1 (2003)                          </td><td>Action|Crime|Thriller                     </td></tr>\n",
              "<tr><td style=\"text-align: right;\">  4.3</td><td style=\"text-align: right;\">4.0</td><td style=\"text-align: right;\">     2</td><td>[4.0,4.1,4.0,4.0,3.9,3.9]</td><td style=\"text-align: right;\">               4.1</td><td style=\"text-align: right;\">     79132</td><td>Inception (2010)                                  </td><td>Action|Crime|Drama|Mystery|Sci-Fi|Thriller</td></tr>\n",
              "<tr><td style=\"text-align: right;\">  4.2</td><td style=\"text-align: right;\">4.5</td><td style=\"text-align: right;\">     2</td><td>[4.0,4.1,4.0]            </td><td style=\"text-align: right;\">               4.2</td><td style=\"text-align: right;\">     58559</td><td>Dark Knight, The (2008)                           </td><td>Action|Crime|Drama                        </td></tr>\n",
              "<tr><td style=\"text-align: right;\">  4.2</td><td style=\"text-align: right;\">3.5</td><td style=\"text-align: right;\">     2</td><td>[4.0,4.1,4.0,3.9]        </td><td style=\"text-align: right;\">               3.8</td><td style=\"text-align: right;\">      8798</td><td>Collateral (2004)                                 </td><td>Action|Crime|Drama|Thriller               </td></tr>\n",
              "<tr><td style=\"text-align: right;\">  4.2</td><td style=\"text-align: right;\">4.5</td><td style=\"text-align: right;\">     2</td><td>[4.0,4.0]                </td><td style=\"text-align: right;\">               4.1</td><td style=\"text-align: right;\">     68157</td><td>Inglourious Basterds (2009)                       </td><td>Action|Drama                              </td></tr>\n",
              "<tr><td style=\"text-align: right;\">  4.1</td><td style=\"text-align: right;\">4.0</td><td style=\"text-align: right;\">     2</td><td>[4.1,4.0,3.9]            </td><td style=\"text-align: right;\">               4.3</td><td style=\"text-align: right;\">     48516</td><td>Departed, The (2006)                              </td><td>Crime|Drama|Thriller                      </td></tr>\n",
              "<tr><td style=\"text-align: right;\">  4.0</td><td style=\"text-align: right;\">3.5</td><td style=\"text-align: right;\">     2</td><td>[4.0,4.0]                </td><td style=\"text-align: right;\">               3.9</td><td style=\"text-align: right;\">     99114</td><td>Django Unchained (2012)                           </td><td>Action|Drama                              </td></tr>\n",
              "<tr><td style=\"text-align: right;\">  4.0</td><td style=\"text-align: right;\">5.0</td><td style=\"text-align: right;\">     2</td><td>[4.0,4.1,4.0]            </td><td style=\"text-align: right;\">               3.9</td><td style=\"text-align: right;\">    106782</td><td>Wolf of Wall Street, The (2013)                   </td><td>Comedy|Crime|Drama                        </td></tr>\n",
              "<tr><td style=\"text-align: right;\">  4.0</td><td style=\"text-align: right;\">5.0</td><td style=\"text-align: right;\">     2</td><td>[4.0,4.2,3.9,3.9]        </td><td style=\"text-align: right;\">               3.8</td><td style=\"text-align: right;\">    122882</td><td>Mad Max: Fury Road (2015)                         </td><td>Action|Adventure|Sci-Fi|Thriller          </td></tr>\n",
              "<tr><td style=\"text-align: right;\">  3.9</td><td style=\"text-align: right;\">3.5</td><td style=\"text-align: right;\">     2</td><td>[4.0,4.2,4.1]            </td><td style=\"text-align: right;\">               4.0</td><td style=\"text-align: right;\">     91529</td><td>Dark Knight Rises, The (2012)                     </td><td>Action|Adventure|Crime                    </td></tr>\n",
              "<tr><td style=\"text-align: right;\">  3.9</td><td style=\"text-align: right;\">3.0</td><td style=\"text-align: right;\">     2</td><td>[3.9]                    </td><td style=\"text-align: right;\">               4.0</td><td style=\"text-align: right;\">    109487</td><td>Interstellar (2014)                               </td><td>Sci-Fi                                    </td></tr>\n",
              "<tr><td style=\"text-align: right;\">  3.8</td><td style=\"text-align: right;\">4.5</td><td style=\"text-align: right;\">     2</td><td>[4.1,4.0,3.9]            </td><td style=\"text-align: right;\">               4.0</td><td style=\"text-align: right;\">     80489</td><td>Town, The (2010)                                  </td><td>Crime|Drama|Thriller                      </td></tr>\n",
              "<tr><td style=\"text-align: right;\">  3.7</td><td style=\"text-align: right;\">4.0</td><td style=\"text-align: right;\">     2</td><td>[4.0]                    </td><td style=\"text-align: right;\">               4.0</td><td style=\"text-align: right;\">    112552</td><td>Whiplash (2014)                                   </td><td>Drama                                     </td></tr>\n",
              "<tr><td style=\"text-align: right;\">  3.7</td><td style=\"text-align: right;\">4.0</td><td style=\"text-align: right;\">     2</td><td>[4.0,4.0,3.9]            </td><td style=\"text-align: right;\">               4.0</td><td style=\"text-align: right;\">     74458</td><td>Shutter Island (2010)                             </td><td>Drama|Mystery|Thriller                    </td></tr>\n",
              "<tr><td style=\"text-align: right;\">  3.7</td><td style=\"text-align: right;\">5.0</td><td style=\"text-align: right;\">     2</td><td>[4.0]                    </td><td style=\"text-align: right;\">               3.6</td><td style=\"text-align: right;\">     60756</td><td>Step Brothers (2008)                              </td><td>Comedy                                    </td></tr>\n",
              "<tr><td style=\"text-align: right;\">  3.6</td><td style=\"text-align: right;\">3.5</td><td style=\"text-align: right;\">     2</td><td>[4.0,3.9,3.9]            </td><td style=\"text-align: right;\">               3.9</td><td style=\"text-align: right;\">    115713</td><td>Ex Machina (2015)                                 </td><td>Drama|Sci-Fi|Thriller                     </td></tr>\n",
              "<tr><td style=\"text-align: right;\">  3.6</td><td style=\"text-align: right;\">5.0</td><td style=\"text-align: right;\">     2</td><td>[4.0]                    </td><td style=\"text-align: right;\">               3.7</td><td style=\"text-align: right;\">     89774</td><td>Warrior (2011)                                    </td><td>Drama                                     </td></tr>\n",
              "<tr><td style=\"text-align: right;\">  3.5</td><td style=\"text-align: right;\">3.0</td><td style=\"text-align: right;\">     2</td><td>[4.0,4.0,3.0]            </td><td style=\"text-align: right;\">               3.9</td><td style=\"text-align: right;\">     71535</td><td>Zombieland (2009)                                 </td><td>Action|Comedy|Horror                      </td></tr>\n",
              "<tr><td style=\"text-align: right;\">  3.4</td><td style=\"text-align: right;\">2.5</td><td style=\"text-align: right;\">     2</td><td>[4.0,3.9]                </td><td style=\"text-align: right;\">               3.5</td><td style=\"text-align: right;\">     91658</td><td>Girl with the Dragon Tattoo, The (2011)           </td><td>Drama|Thriller                            </td></tr>\n",
              "<tr><td style=\"text-align: right;\">  3.2</td><td style=\"text-align: right;\">3.0</td><td style=\"text-align: right;\">     2</td><td>[4.0,4.0]                </td><td style=\"text-align: right;\">               4.0</td><td style=\"text-align: right;\">     77455</td><td>Exit Through the Gift Shop (2010)                 </td><td>Comedy|Documentary                        </td></tr>\n",
              "<tr><td style=\"text-align: right;\">  2.7</td><td style=\"text-align: right;\">4.0</td><td style=\"text-align: right;\">     2</td><td>[4.0,4.0]                </td><td style=\"text-align: right;\">               3.2</td><td style=\"text-align: right;\">     46970</td><td>Talladega Nights: The Ballad of Ricky Bobby (2006)</td><td>Action|Comedy                             </td></tr>\n",
              "</tbody>\n",
              "</table>"
            ]
          },
          "metadata": {}
        }
      ]
    },
    {
      "cell_type": "code",
      "source": [],
      "metadata": {
        "id": "4yrwqin6Aua-"
      },
      "execution_count": null,
      "outputs": []
    }
  ]
}